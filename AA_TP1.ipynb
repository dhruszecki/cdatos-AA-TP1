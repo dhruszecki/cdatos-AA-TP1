{
 "nbformat": 4,
 "nbformat_minor": 0,
 "metadata": {
  "colab": {
   "name": "AA-TP1.ipynb",
   "provenance": [],
   "collapsed_sections": [],
   "toc_visible": true
  },
  "kernelspec": {
   "name": "pycharm-fd34a507",
   "language": "python",
   "display_name": "PyCharm (cdatos-AA-TP1)"
  }
 },
 "cells": [
  {
   "cell_type": "markdown",
   "metadata": {
    "id": "YkqSxui9eIRZ",
    "colab_type": "text"
   },
   "source": [
    "# Trabajo práctico de Aprendizaje automático"
   ]
  },
  {
   "cell_type": "markdown",
   "metadata": {
    "id": "JGjpLi4M9NfR",
    "colab_type": "text"
   },
   "source": [
    "# Importación de librerias externas"
   ]
  },
  {
   "cell_type": "code",
   "metadata": {
    "id": "ZVgoR4r89b_2",
    "colab_type": "code",
    "outputId": "56e03233-175d-4985-900d-8548e9c34b1a",
    "colab": {
     "base_uri": "https://localhost:8080/",
     "height": 70
    }
   },
   "source": [
    "# -*- coding: utf-8 -*-\n",
    "import pandas as pd\n",
    "import numpy as np\n",
    "import matplotlib.pyplot as plt\n",
    "import io\n",
    "import scipy.stats as stats\n",
    "import seaborn as sns\n",
    "\n",
    "from sklearn.preprocessing import OneHotEncoder\n",
    "from sklearn import preprocessing\n",
    "from sklearn.impute import SimpleImputer \n",
    "from sklearn import tree\n",
    "from sklearn.model_selection import train_test_split\n",
    "from sklearn.tree import DecisionTreeClassifier, plot_tree\n",
    "from sklearn.metrics import accuracy_score, precision_score, recall_score, f1_score\n"
   ],
   "execution_count": 0,
   "outputs": [
    {
     "output_type": "stream",
     "text": [
      "/usr/local/lib/python3.6/dist-packages/statsmodels/tools/_testing.py:19: FutureWarning: pandas.util.testing is deprecated. Use the functions in the public API at pandas.testing instead.\n",
      "  import pandas.util.testing as tm\n"
     ],
     "name": "stderr"
    }
   ]
  },
  {
   "cell_type": "markdown",
   "metadata": {
    "id": "z7L5xawtel-Q",
    "colab_type": "text"
   },
   "source": [
    "# Importación y carga del Dataset"
   ]
  },
  {
   "cell_type": "markdown",
   "metadata": {
    "id": "dSlfOm74exaX",
    "colab_type": "text"
   },
   "source": [
    "Descarga del dataset"
   ]
  },
  {
   "cell_type": "code",
   "metadata": {
    "id": "QpCRtlSTevoe",
    "colab_type": "code",
    "outputId": "c1b2be38-a286-415a-c0e1-05a0a61233f0",
    "colab": {
     "base_uri": "https://localhost:8080/",
     "height": 202
    }
   },
   "source": [
    "#!wget https://raw.githubusercontent.com/dhruszecki/cdatos-AA-TP1/master/ds/hotel_bookings.csv"
   ],
   "execution_count": 0,
   "outputs": [
    {
     "output_type": "stream",
     "text": [
      "--2020-06-16 00:23:12--  https://raw.githubusercontent.com/dhruszecki/cdatos-AA-TP1/master/ds/hotel_bookings.csv\n",
      "Resolving raw.githubusercontent.com (raw.githubusercontent.com)... 151.101.0.133, 151.101.64.133, 151.101.128.133, ...\n",
      "Connecting to raw.githubusercontent.com (raw.githubusercontent.com)|151.101.0.133|:443... connected.\n",
      "HTTP request sent, awaiting response... 200 OK\n",
      "Length: 16855599 (16M) [text/plain]\n",
      "Saving to: ‘hotel_bookings.csv.1’\n",
      "\n",
      "hotel_bookings.csv. 100%[===================>]  16.07M  26.0MB/s    in 0.6s    \n",
      "\n",
      "2020-06-16 00:23:13 (26.0 MB/s) - ‘hotel_bookings.csv.1’ saved [16855599/16855599]\n",
      "\n"
     ],
     "name": "stdout"
    }
   ]
  },
  {
   "cell_type": "markdown",
   "metadata": {
    "id": "J9Wn7un2foDr",
    "colab_type": "text"
   },
   "source": [
    "Creación del dataframe a explorar"
   ]
  },
  {
   "cell_type": "code",
   "metadata": {
    "id": "_YAwb1AZe5k_",
    "colab_type": "code",
    "colab": {}
   },
   "source": [
    "df0 = pd.read_csv('ds/hotel_bookings.csv')"
   ],
   "execution_count": 1,
   "outputs": [
    {
     "ename": "NameError",
     "evalue": "name 'pd' is not defined",
     "output_type": "error",
     "traceback": [
      "\u001B[0;31m---------------------------------------------------------------------------\u001B[0m",
      "\u001B[0;31mNameError\u001B[0m                                 Traceback (most recent call last)",
      "\u001B[0;32m<ipython-input-1-ab75686706a9>\u001B[0m in \u001B[0;36m<module>\u001B[0;34m\u001B[0m\n\u001B[0;32m----> 1\u001B[0;31m \u001B[0mdf0\u001B[0m \u001B[0;34m=\u001B[0m \u001B[0mpd\u001B[0m\u001B[0;34m.\u001B[0m\u001B[0mread_csv\u001B[0m\u001B[0;34m(\u001B[0m\u001B[0;34m'ds/hotel_bookings.csv'\u001B[0m\u001B[0;34m)\u001B[0m\u001B[0;34m\u001B[0m\u001B[0;34m\u001B[0m\u001B[0m\n\u001B[0m\u001B[1;32m      2\u001B[0m \u001B[0;34m\u001B[0m\u001B[0m\n",
      "\u001B[0;31mNameError\u001B[0m: name 'pd' is not defined"
     ]
    }
   ]
  },
  {
   "cell_type": "markdown",
   "metadata": {
    "id": "SopRdGfckgZY",
    "colab_type": "text"
   },
   "source": [
    "# Análisis exploratorio"
   ]
  },
  {
   "cell_type": "code",
   "metadata": {
    "id": "gZMFZiaNEqWm",
    "colab_type": "code",
    "outputId": "1885b91a-a2a5-4dda-9d2b-d22eccf305f8",
    "colab": {
     "base_uri": "https://localhost:8080/",
     "height": 255
    },
    "pycharm": {
     "name": "#%%\n"
    }
   },
   "source": [
    "df0.count"
   ],
   "execution_count": 4,
   "outputs": [
    {
     "ename": "NameError",
     "evalue": "name 'df0' is not defined",
     "output_type": "error",
     "traceback": [
      "\u001B[0;31m---------------------------------------------------------------------------\u001B[0m",
      "\u001B[0;31mNameError\u001B[0m                                 Traceback (most recent call last)",
      "\u001B[0;32m<ipython-input-4-4089cbd2af57>\u001B[0m in \u001B[0;36m<module>\u001B[0;34m\u001B[0m\n\u001B[0;32m----> 1\u001B[0;31m \u001B[0mdf0\u001B[0m\u001B[0;34m.\u001B[0m\u001B[0mcount\u001B[0m\u001B[0;34m\u001B[0m\u001B[0;34m\u001B[0m\u001B[0m\n\u001B[0m\u001B[1;32m      2\u001B[0m \u001B[0;34m\u001B[0m\u001B[0m\n",
      "\u001B[0;31mNameError\u001B[0m: name 'df0' is not defined"
     ]
    }
   ]
  },
  {
   "cell_type": "markdown",
   "metadata": {
    "id": "Fx_TBApKlWfu",
    "colab_type": "text",
    "pycharm": {
     "name": "#%% md\n"
    }
   },
   "source": [
    "Visualización de campos"
   ]
  },
  {
   "cell_type": "code",
   "metadata": {
    "id": "l2No9Zc9E13S",
    "colab_type": "code",
    "outputId": "4666350f-fab6-4511-fee5-0506247ff50f",
    "colab": {
     "base_uri": "https://localhost:8080/",
     "height": 261
    }
   },
   "source": [
    "df0.head(4)"
   ],
   "execution_count": 0,
   "outputs": [
    {
     "output_type": "execute_result",
     "data": {
      "text/html": [
       "<div>\n",
       "<style scoped>\n",
       "    .dataframe tbody tr th:only-of-type {\n",
       "        vertical-align: middle;\n",
       "    }\n",
       "\n",
       "    .dataframe tbody tr th {\n",
       "        vertical-align: top;\n",
       "    }\n",
       "\n",
       "    .dataframe thead th {\n",
       "        text-align: right;\n",
       "    }\n",
       "</style>\n",
       "<table border=\"1\" class=\"dataframe\">\n",
       "  <thead>\n",
       "    <tr style=\"text-align: right;\">\n",
       "      <th></th>\n",
       "      <th>hotel</th>\n",
       "      <th>is_canceled</th>\n",
       "      <th>lead_time</th>\n",
       "      <th>arrival_date_year</th>\n",
       "      <th>arrival_date_month</th>\n",
       "      <th>arrival_date_week_number</th>\n",
       "      <th>arrival_date_day_of_month</th>\n",
       "      <th>stays_in_weekend_nights</th>\n",
       "      <th>stays_in_week_nights</th>\n",
       "      <th>adults</th>\n",
       "      <th>children</th>\n",
       "      <th>babies</th>\n",
       "      <th>meal</th>\n",
       "      <th>country</th>\n",
       "      <th>market_segment</th>\n",
       "      <th>distribution_channel</th>\n",
       "      <th>is_repeated_guest</th>\n",
       "      <th>previous_cancellations</th>\n",
       "      <th>previous_bookings_not_canceled</th>\n",
       "      <th>reserved_room_type</th>\n",
       "      <th>assigned_room_type</th>\n",
       "      <th>booking_changes</th>\n",
       "      <th>deposit_type</th>\n",
       "      <th>agent</th>\n",
       "      <th>company</th>\n",
       "      <th>days_in_waiting_list</th>\n",
       "      <th>customer_type</th>\n",
       "      <th>adr</th>\n",
       "      <th>required_car_parking_spaces</th>\n",
       "      <th>total_of_special_requests</th>\n",
       "      <th>reservation_status</th>\n",
       "      <th>reservation_status_date</th>\n",
       "    </tr>\n",
       "  </thead>\n",
       "  <tbody>\n",
       "    <tr>\n",
       "      <th>0</th>\n",
       "      <td>Resort Hotel</td>\n",
       "      <td>0</td>\n",
       "      <td>342</td>\n",
       "      <td>2015</td>\n",
       "      <td>July</td>\n",
       "      <td>27</td>\n",
       "      <td>1</td>\n",
       "      <td>0</td>\n",
       "      <td>0</td>\n",
       "      <td>2</td>\n",
       "      <td>0.0</td>\n",
       "      <td>0</td>\n",
       "      <td>BB</td>\n",
       "      <td>PRT</td>\n",
       "      <td>Direct</td>\n",
       "      <td>Direct</td>\n",
       "      <td>0</td>\n",
       "      <td>0</td>\n",
       "      <td>0</td>\n",
       "      <td>C</td>\n",
       "      <td>C</td>\n",
       "      <td>3</td>\n",
       "      <td>No Deposit</td>\n",
       "      <td>NaN</td>\n",
       "      <td>NaN</td>\n",
       "      <td>0</td>\n",
       "      <td>Transient</td>\n",
       "      <td>0.0</td>\n",
       "      <td>0</td>\n",
       "      <td>0</td>\n",
       "      <td>Check-Out</td>\n",
       "      <td>2015-07-01</td>\n",
       "    </tr>\n",
       "    <tr>\n",
       "      <th>1</th>\n",
       "      <td>Resort Hotel</td>\n",
       "      <td>0</td>\n",
       "      <td>737</td>\n",
       "      <td>2015</td>\n",
       "      <td>July</td>\n",
       "      <td>27</td>\n",
       "      <td>1</td>\n",
       "      <td>0</td>\n",
       "      <td>0</td>\n",
       "      <td>2</td>\n",
       "      <td>0.0</td>\n",
       "      <td>0</td>\n",
       "      <td>BB</td>\n",
       "      <td>PRT</td>\n",
       "      <td>Direct</td>\n",
       "      <td>Direct</td>\n",
       "      <td>0</td>\n",
       "      <td>0</td>\n",
       "      <td>0</td>\n",
       "      <td>C</td>\n",
       "      <td>C</td>\n",
       "      <td>4</td>\n",
       "      <td>No Deposit</td>\n",
       "      <td>NaN</td>\n",
       "      <td>NaN</td>\n",
       "      <td>0</td>\n",
       "      <td>Transient</td>\n",
       "      <td>0.0</td>\n",
       "      <td>0</td>\n",
       "      <td>0</td>\n",
       "      <td>Check-Out</td>\n",
       "      <td>2015-07-01</td>\n",
       "    </tr>\n",
       "    <tr>\n",
       "      <th>2</th>\n",
       "      <td>Resort Hotel</td>\n",
       "      <td>0</td>\n",
       "      <td>7</td>\n",
       "      <td>2015</td>\n",
       "      <td>July</td>\n",
       "      <td>27</td>\n",
       "      <td>1</td>\n",
       "      <td>0</td>\n",
       "      <td>1</td>\n",
       "      <td>1</td>\n",
       "      <td>0.0</td>\n",
       "      <td>0</td>\n",
       "      <td>BB</td>\n",
       "      <td>GBR</td>\n",
       "      <td>Direct</td>\n",
       "      <td>Direct</td>\n",
       "      <td>0</td>\n",
       "      <td>0</td>\n",
       "      <td>0</td>\n",
       "      <td>A</td>\n",
       "      <td>C</td>\n",
       "      <td>0</td>\n",
       "      <td>No Deposit</td>\n",
       "      <td>NaN</td>\n",
       "      <td>NaN</td>\n",
       "      <td>0</td>\n",
       "      <td>Transient</td>\n",
       "      <td>75.0</td>\n",
       "      <td>0</td>\n",
       "      <td>0</td>\n",
       "      <td>Check-Out</td>\n",
       "      <td>2015-07-02</td>\n",
       "    </tr>\n",
       "    <tr>\n",
       "      <th>3</th>\n",
       "      <td>Resort Hotel</td>\n",
       "      <td>0</td>\n",
       "      <td>13</td>\n",
       "      <td>2015</td>\n",
       "      <td>July</td>\n",
       "      <td>27</td>\n",
       "      <td>1</td>\n",
       "      <td>0</td>\n",
       "      <td>1</td>\n",
       "      <td>1</td>\n",
       "      <td>0.0</td>\n",
       "      <td>0</td>\n",
       "      <td>BB</td>\n",
       "      <td>GBR</td>\n",
       "      <td>Corporate</td>\n",
       "      <td>Corporate</td>\n",
       "      <td>0</td>\n",
       "      <td>0</td>\n",
       "      <td>0</td>\n",
       "      <td>A</td>\n",
       "      <td>A</td>\n",
       "      <td>0</td>\n",
       "      <td>No Deposit</td>\n",
       "      <td>304.0</td>\n",
       "      <td>NaN</td>\n",
       "      <td>0</td>\n",
       "      <td>Transient</td>\n",
       "      <td>75.0</td>\n",
       "      <td>0</td>\n",
       "      <td>0</td>\n",
       "      <td>Check-Out</td>\n",
       "      <td>2015-07-02</td>\n",
       "    </tr>\n",
       "  </tbody>\n",
       "</table>\n",
       "</div>"
      ],
      "text/plain": [
       "          hotel  is_canceled  ...  reservation_status  reservation_status_date\n",
       "0  Resort Hotel            0  ...           Check-Out               2015-07-01\n",
       "1  Resort Hotel            0  ...           Check-Out               2015-07-01\n",
       "2  Resort Hotel            0  ...           Check-Out               2015-07-02\n",
       "3  Resort Hotel            0  ...           Check-Out               2015-07-02\n",
       "\n",
       "[4 rows x 32 columns]"
      ]
     },
     "metadata": {
      "tags": []
     },
     "execution_count": 30
    }
   ]
  },
  {
   "cell_type": "code",
   "metadata": {
    "id": "7eNfTRUhlfQW",
    "colab_type": "code",
    "outputId": "b0351c02-1ad2-4f76-e243-c336860df966",
    "colab": {
     "base_uri": "https://localhost:8080/",
     "height": 578
    }
   },
   "source": [
    "df0.dtypes"
   ],
   "execution_count": 5,
   "outputs": [
    {
     "ename": "NameError",
     "evalue": "name 'df0' is not defined",
     "output_type": "error",
     "traceback": [
      "\u001B[0;31m---------------------------------------------------------------------------\u001B[0m",
      "\u001B[0;31mNameError\u001B[0m                                 Traceback (most recent call last)",
      "\u001B[0;32m<ipython-input-5-8f280d24f4c1>\u001B[0m in \u001B[0;36m<module>\u001B[0;34m\u001B[0m\n\u001B[0;32m----> 1\u001B[0;31m \u001B[0mdf0\u001B[0m\u001B[0;34m.\u001B[0m\u001B[0mdtypes\u001B[0m\u001B[0;34m\u001B[0m\u001B[0;34m\u001B[0m\u001B[0m\n\u001B[0m\u001B[1;32m      2\u001B[0m \u001B[0;34m\u001B[0m\u001B[0m\n",
      "\u001B[0;31mNameError\u001B[0m: name 'df0' is not defined"
     ]
    }
   ]
  },
  {
   "cell_type": "code",
   "metadata": {
    "id": "z6cRdk6PGPIs",
    "colab_type": "code",
    "outputId": "93b115c8-d84d-4f54-8597-a1d3c6b691ad",
    "colab": {
     "base_uri": "https://localhost:8080/",
     "height": 85
    }
   },
   "source": [
    "df0.dtypes.value_counts()"
   ],
   "execution_count": 6,
   "outputs": [
    {
     "ename": "NameError",
     "evalue": "name 'df0' is not defined",
     "output_type": "error",
     "traceback": [
      "\u001B[0;31m---------------------------------------------------------------------------\u001B[0m",
      "\u001B[0;31mNameError\u001B[0m                                 Traceback (most recent call last)",
      "\u001B[0;32m<ipython-input-6-ef16c4a09a92>\u001B[0m in \u001B[0;36m<module>\u001B[0;34m\u001B[0m\n\u001B[0;32m----> 1\u001B[0;31m \u001B[0mdf0\u001B[0m\u001B[0;34m.\u001B[0m\u001B[0mdtypes\u001B[0m\u001B[0;34m.\u001B[0m\u001B[0mvalue_counts\u001B[0m\u001B[0;34m(\u001B[0m\u001B[0;34m)\u001B[0m\u001B[0;34m\u001B[0m\u001B[0;34m\u001B[0m\u001B[0m\n\u001B[0m\u001B[1;32m      2\u001B[0m \u001B[0;34m\u001B[0m\u001B[0m\n",
      "\u001B[0;31mNameError\u001B[0m: name 'df0' is not defined"
     ]
    }
   ]
  },
  {
   "cell_type": "code",
   "metadata": {
    "id": "GJOa_7jQgGXL",
    "colab_type": "code",
    "outputId": "d6bc5b7a-4749-4989-f8e2-b825b1a521e4",
    "colab": {
     "base_uri": "https://localhost:8080/",
     "height": 153
    }
   },
   "source": [
    "df0.values"
   ],
   "execution_count": 7,
   "outputs": [
    {
     "ename": "NameError",
     "evalue": "name 'df0' is not defined",
     "output_type": "error",
     "traceback": [
      "\u001B[0;31m---------------------------------------------------------------------------\u001B[0m",
      "\u001B[0;31mNameError\u001B[0m                                 Traceback (most recent call last)",
      "\u001B[0;32m<ipython-input-7-9a9710ea5f25>\u001B[0m in \u001B[0;36m<module>\u001B[0;34m\u001B[0m\n\u001B[0;32m----> 1\u001B[0;31m \u001B[0mdf0\u001B[0m\u001B[0;34m.\u001B[0m\u001B[0mvalues\u001B[0m\u001B[0;34m\u001B[0m\u001B[0;34m\u001B[0m\u001B[0m\n\u001B[0m\u001B[1;32m      2\u001B[0m \u001B[0;34m\u001B[0m\u001B[0m\n",
      "\u001B[0;31mNameError\u001B[0m: name 'df0' is not defined"
     ]
    }
   ]
  },
  {
   "cell_type": "markdown",
   "metadata": {
    "id": "wZITk56AAo3M",
    "colab_type": "text"
   },
   "source": [
    "#Preguntas A y B\n",
    "A)describir los atributos realizando una breve explicación de qué representan y \n",
    "del tipo de variable (categórica, numérica u ordinal). En caso de que haya variables no numéricas, \n",
    "reportar los posibles valores que toman y cuán frecuentemente lo hacen.\n",
    "\n",
    "B) Reportar si hay valores faltantes. ¿Cuántos son y en qué atributos se encuentran? \n",
    "En caso de haberlos, ¿es necesario y posible asignarles un valor? '''\n"
   ]
  },
  {
   "cell_type": "code",
   "metadata": {
    "id": "CiDyJ2F799nq",
    "colab_type": "code",
    "colab": {}
   },
   "source": [
    "print (len(df0))\n",
    "print(df0.info())\n",
    "print (df0.head())\n",
    "print (df0.columns)\n",
    "\n",
    "for col in df0.columns:\n",
    "    print(col)\n",
    "    valcounts = df0[col].value_counts(normalize=True)\n",
    "    print(valcounts)\n",
    "    print('Cantidad de datos: '+ str(len(valcounts)))\n",
    "    # Chequeo si tengo nans\n",
    "    print('NaN: '+str(df0[col].isna().sum()))\n",
    "    print('\\n')\n"
   ],
   "execution_count": 8,
   "outputs": [
    {
     "ename": "NameError",
     "evalue": "name 'df0' is not defined",
     "output_type": "error",
     "traceback": [
      "\u001B[0;31m---------------------------------------------------------------------------\u001B[0m",
      "\u001B[0;31mNameError\u001B[0m                                 Traceback (most recent call last)",
      "\u001B[0;32m<ipython-input-8-9a70228195a9>\u001B[0m in \u001B[0;36m<module>\u001B[0;34m\u001B[0m\n\u001B[0;32m----> 1\u001B[0;31m \u001B[0mprint\u001B[0m \u001B[0;34m(\u001B[0m\u001B[0mlen\u001B[0m\u001B[0;34m(\u001B[0m\u001B[0mdf0\u001B[0m\u001B[0;34m)\u001B[0m\u001B[0;34m)\u001B[0m\u001B[0;34m\u001B[0m\u001B[0;34m\u001B[0m\u001B[0m\n\u001B[0m\u001B[1;32m      2\u001B[0m \u001B[0mprint\u001B[0m\u001B[0;34m(\u001B[0m\u001B[0mdf0\u001B[0m\u001B[0;34m.\u001B[0m\u001B[0minfo\u001B[0m\u001B[0;34m(\u001B[0m\u001B[0;34m)\u001B[0m\u001B[0;34m)\u001B[0m\u001B[0;34m\u001B[0m\u001B[0;34m\u001B[0m\u001B[0m\n\u001B[1;32m      3\u001B[0m \u001B[0mprint\u001B[0m \u001B[0;34m(\u001B[0m\u001B[0mdf0\u001B[0m\u001B[0;34m.\u001B[0m\u001B[0mhead\u001B[0m\u001B[0;34m(\u001B[0m\u001B[0;34m)\u001B[0m\u001B[0;34m)\u001B[0m\u001B[0;34m\u001B[0m\u001B[0;34m\u001B[0m\u001B[0m\n\u001B[1;32m      4\u001B[0m \u001B[0mprint\u001B[0m \u001B[0;34m(\u001B[0m\u001B[0mdf0\u001B[0m\u001B[0;34m.\u001B[0m\u001B[0mcolumns\u001B[0m\u001B[0;34m)\u001B[0m\u001B[0;34m\u001B[0m\u001B[0;34m\u001B[0m\u001B[0m\n\u001B[1;32m      5\u001B[0m \u001B[0;34m\u001B[0m\u001B[0m\n",
      "\u001B[0;31mNameError\u001B[0m: name 'df0' is not defined"
     ]
    }
   ]
  },
  {
   "cell_type": "markdown",
   "metadata": {
    "id": "ujvzKxwxBr1m",
    "colab_type": "text"
   },
   "source": [
    "#Completa Datos Faltantes"
   ]
  },
  {
   "cell_type": "code",
   "metadata": {
    "id": "EKqRjBupCVD6",
    "colab_type": "code",
    "outputId": "59582134-6f38-4c50-8834-b225c87158bc",
    "colab": {
     "base_uri": "https://localhost:8080/",
     "height": 118
    }
   },
   "source": [
    "colcNaN = ['country','agent','company']\n",
    "# Agent: Identificación del agente (si se reserva a través de un agente)\n",
    "# company: ID de la empresa (si una cuenta estaba asociada a ella)\n",
    "# Country: Identificación ISO del país del titular de la reserva principal.\n",
    "for col in colcNaN:\n",
    "    print(col)\n",
    "    print('% de faltantes: ',round(df0[col].isna().sum()/len(df0[col])*100,2))\n",
    "    if col == 'country':\n",
    "        df0[col] = df0[col].fillna('SinDato')\n",
    "    if col == 'agent':\n",
    "        df0[col] = df0[col].fillna('Particular')\n",
    "    if col == 'company':\n",
    "        df0[col] = df0[col].fillna('Particular') "
   ],
   "execution_count": 0,
   "outputs": [
    {
     "output_type": "stream",
     "text": [
      "country\n",
      "% de faltantes:  0.41\n",
      "agent\n",
      "% de faltantes:  13.69\n",
      "company\n",
      "% de faltantes:  94.31\n"
     ],
     "name": "stdout"
    }
   ]
  },
  {
   "cell_type": "markdown",
   "metadata": {
    "id": "vOHcW919CzRq",
    "colab_type": "text",
    "pycharm": {
     "name": "#%% md\n"
    }
   },
   "source": [
    "# Transforma datos"
   ]
  },
  {
   "cell_type": "code",
   "metadata": {
    "id": "5cvS-EwEC-EU",
    "colab_type": "code",
    "outputId": "af2a5940-ef96-442a-ecf2-47a28b73fd2f",
    "colab": {
     "base_uri": "https://localhost:8080/",
     "height": 1000
    }
   },
   "source": [
    "#!pip install jenkspy\n",
    "import jenkspy\n",
    "\n",
    "################################\n",
    "# hay demasiadas posibles categorías? \n",
    "# Nos quedaremos con las más frecuentes y las demás las asignamos a Other.\n",
    "# Que otra tecnica/criterio podemos usar?\n",
    "\n",
    "def transformar(variable, )\n",
    "\n",
    "\n",
    "for col in df0.columns:\n",
    "    if col == 'lead_time':\n",
    "        #continue\n",
    "        print (col)\n",
    "        #print (df0[col].describe())\n",
    "        #print (df0[col].value_counts())  \n",
    "        \n",
    "        breaks = jenkspy.jenks_breaks(df0[col], nb_class=5)\n",
    "        print(breaks)\n",
    "        #bin_labels = ['',]\n",
    "        df0['LT_Transf'] = pd.cut(df0[col],bins=breaks,\n",
    "                        labels=breaks[:-1],include_lowest=True)#,retbins=True)\n",
    "        print (df0['LT_Transf'].value_counts())\n",
    "        \n",
    "        # Df para Plotear\n",
    "        Df_Var = df0[col].to_frame()\n",
    "        Df_Var['LT_Transf']=df0['LT_Transf']        \n",
    "        Df_Var.sort_values([col,], axis=0, inplace=True)\n",
    "        Df_Var = Df_Var.reset_index()    \n",
    "        \n",
    "        if True: #Plot\n",
    "            fig, ax1 = plt.subplots()\n",
    "            color = 'tab:red'\n",
    "            ax1.set_xlabel('Reservas')\n",
    "            ax1.set_ylabel(col, color=color)\n",
    "            ax1.plot(Df_Var.index,Df_Var[col],'o', color=color)\n",
    "            ax1.tick_params(axis='y', labelcolor=color)\n",
    "\n",
    "            ax2 = ax1.twinx()  \n",
    "\n",
    "            color = 'tab:blue'\n",
    "            ax2.set_ylabel('Transformacion', color=color) \n",
    "            ax2.plot(Df_Var.index,Df_Var['LT_Transf'],'o', color=color)\n",
    "            ax2.tick_params(axis='y', labelcolor=color)\n",
    "\n",
    "            fig.tight_layout() \n",
    "            plt.title(col)\n",
    "            plt.show()\n",
    "\n",
    "    if col == 'stays_in_weekend_nights':\n",
    "        #continue\n",
    "        print (col)\n",
    "        ValUnicos = df0[col].value_counts(normalize=True)*100\n",
    "        ValUnicos_Id = ValUnicos[ValUnicos>1.0].index\n",
    "\n",
    "        df0.loc[~df0[col].isin(ValUnicos_Id), col] = 5\n",
    "        # [0, 1, 2, 3, 4, 5]/ Otro: >4 / Son menos del 0.3%\n",
    "        ValUnicos = df0[col].value_counts(normalize=True)*100\n",
    "        print(ValUnicos)\n",
    "\n",
    "    if col == 'stays_in_week_nights':\n",
    "        #continue\n",
    "        print (col)\n",
    "        ValUnicos = df0[col].value_counts(normalize=True)*100\n",
    "        ValUnicos_Id = ValUnicos[ValUnicos>1.0].index\n",
    "        \n",
    "        df0.loc[~df0[col].isin(ValUnicos_Id), col] = 7\n",
    "        # [0, 1, 2, 3, 4, 5, 6, 7]/ Otro 7 es to >6 / Son menos del 3%\n",
    "        ValUnicos = df0[col].value_counts(normalize=True)*100\n",
    "        print(ValUnicos)\n",
    "        \n",
    "    if col == 'adults':\n",
    "        #continue\n",
    "        print (col)\n",
    "        ValUnicos = df0[col].value_counts(normalize=True)*100\n",
    "        ValUnicos_Id = ValUnicos[ValUnicos>1.0].index\n",
    "        \n",
    "        df0.loc[~df0[col].isin(ValUnicos_Id), col] = 4\n",
    "        # [1, 2, 3, 4]/ Otro: 0 y >3 / Son menos del 1%\n",
    "        ValUnicos = df0[col].value_counts(normalize=True)*100\n",
    "        print(ValUnicos)\n",
    "    \n",
    "    if col == 'children':\n",
    "        #continue\n",
    "        print (col)\n",
    "        ValUnicos = df0[col].value_counts(normalize=True)*100\n",
    "        ValUnicos_Id = ValUnicos[ValUnicos>1.0].index\n",
    "      \n",
    "        df0.loc[~df0[col].isin(ValUnicos_Id), col] = 3\n",
    "        # [0, 1, 2, 3]/ Otro: 0 y >2 / Son menos del 0.1%\n",
    "        ValUnicos = df0[col].value_counts(normalize=True)*100\n",
    "        print(ValUnicos)\n",
    "\n",
    "    if col == 'babies':\n",
    "        #continue\n",
    "        print (col)\n",
    "        ValUnicos = df0[col].value_counts(normalize=True)*100\n",
    "        ValUnicos_Id = ValUnicos[ValUnicos>1.0].index\n",
    "\n",
    "        df0.loc[~df0[col].isin(ValUnicos_Id), col] = 1\n",
    "        # [0, 1]/ Con o sin bebe/ ConBebe menos del 1%\n",
    "        ValUnicos = df0[col].value_counts(normalize=True)*100\n",
    "        print(ValUnicos)\n",
    "\n",
    "    if col == 'previous_cancellations':\n",
    "        #continue\n",
    "        print (col)\n",
    "        ValUnicos = df0[col].value_counts(normalize=True)*100\n",
    "        ValUnicos_Id = ValUnicos[ValUnicos>6.0].index\n",
    "        \n",
    "        df0.loc[~df0[col].isin(ValUnicos_Id), col] = 1\n",
    "        # [0, 1]/ SinAntesCancelo o No / Si cancelo  5.4%\n",
    "        ValUnicos = df0[col].value_counts(normalize=True)*100\n",
    "        print(ValUnicos)\n",
    "        \n",
    "    if col == 'previous_bookings_not_canceled':\n",
    "        #continue\n",
    "        print (col)\n",
    "        ValUnicos = df0[col].value_counts(normalize=True)*100\n",
    "        ValUnicos_Id = ValUnicos[ValUnicos>1.5].index\n",
    "        \n",
    "        df0.loc[~df0[col].isin(ValUnicos_Id), col] = 1\n",
    "        # [0, 1]/ Con O Sin Reserva previa / Con Res 3.0%\n",
    "        ValUnicos = df0[col].value_counts(normalize=True)*100\n",
    "        print(ValUnicos)\n",
    "    \n",
    "    # 'cambio_room_type'\n",
    "    if col == 'reserved_room_type':\n",
    "        #continue\n",
    "        print (col)\n",
    "        df0['room_change'] = np.nan\n",
    "        for index,row in df0.iterrows():\n",
    "            if row[col]!=row['assigned_room_type']:\n",
    "                if row[col]<row['assigned_room_type']:\n",
    "                    df0.loc[index, 'room_change'] = 'mejor'\n",
    "                else:\n",
    "                    df0.loc[index, 'room_change'] = 'peor'\n",
    "            else:\n",
    "                df0.loc[index, 'room_change'] = 'sincambio'\n",
    "    \n",
    "    if col == 'booking_changes':\n",
    "        #continue\n",
    "        print (col)\n",
    "        ValUnicos = df0[col].value_counts(normalize=True)*100\n",
    "        ValUnicos_Id = ValUnicos[ValUnicos>1.0].index\n",
    "        print(ValUnicos_Id)\n",
    "        df0.loc[~df0[col].isin(ValUnicos_Id), col] = 3\n",
    "        # [0, 1, 3]/ Otro: >2 / 1.3%\n",
    "        ValUnicos = df0[col].value_counts(normalize=True)*100\n",
    "        print(ValUnicos)\n",
    "\n",
    "    if col == 'agent':\n",
    "        #continue\n",
    "        print (col)\n",
    "        ValUnicos = df0[col].value_counts(normalize=True)*100\n",
    "        ValUnicos_Id = ValUnicos[ValUnicos>3.0].index\n",
    "        \n",
    "        df0.loc[~df0[col].isin(ValUnicos_Id), col] = 'OtroAgente'\n",
    "        # ['9.0', 'Particular', '240.0', '1.0', '14.0','OtroAgente']/ Otro: <3% / OtroAgente son el 38.8%\n",
    "        ValUnicos = df0[col].value_counts(normalize=True)*100\n",
    "        print(ValUnicos)\n",
    "        print(ValUnicos_Id)\n",
    "        \n",
    "    if col == 'company':\n",
    "        #continue\n",
    "        print (col)\n",
    "        ValUnicos = df0[col].value_counts(normalize=True)*100\n",
    "        ValUnicos_Id = ValUnicos[ValUnicos>1.0].index\n",
    "        \n",
    "        df0.loc[~df0[col].isin(ValUnicos_Id), col] = 'Compania'\n",
    "        # ['Particular', 'Compania']/ Compania: 5.7%\n",
    "        ValUnicos = df0[col].value_counts(normalize=True)*100\n",
    "        print(ValUnicos)\n",
    "\n",
    "    if col == 'days_in_waiting_list':\n",
    "        #continue\n",
    "        print (col)\n",
    "        ValUnicos = df0[col].value_counts(normalize=True)*100\n",
    "        ValUnicos_Id = ValUnicos[ValUnicos>1.0].index\n",
    "        \n",
    "        df0.loc[~df0[col].isin(ValUnicos_Id), col] = 1\n",
    "        # [0, 1]/ 1 son los que tuvieron al menos un dia de espera: 3.1%\n",
    "        ValUnicos = df0[col].value_counts(normalize=True)*100\n",
    "        print(ValUnicos)\n",
    "\n",
    "    if col == 'adr':\n",
    "        #continue\n",
    "        print (col)\n",
    "        #print (df0[col].describe())\n",
    "        #print (df0[col].value_counts())  \n",
    "        \n",
    "        #Cambia el valor de una variable\n",
    "        df0.loc[df0[col]>1000, col] = 540\n",
    "        #5400 a 540 porque el siguiente es 510. Perece error de tipeo\n",
    "        \n",
    "        breaks = jenkspy.jenks_breaks(df0[col], nb_class=5)\n",
    "        print(breaks)\n",
    "        #bin_labels = ['',]\n",
    "        df0['adr_Transf'] = pd.cut(df0[col],bins=breaks,\n",
    "                        labels=breaks[1:],include_lowest=True)#,retbins=True)\n",
    "        print (df0['adr_Transf'].value_counts())\n",
    "        \n",
    "        # Df para Plotear\n",
    "        Df_Var = df0[col].to_frame()\n",
    "        Df_Var['adr_Transf']=df0['adr_Transf']        \n",
    "        Df_Var.sort_values([col,], axis=0, inplace=True)\n",
    "        Df_Var = Df_Var.reset_index()    \n",
    "        \n",
    "        if True: #Plot\n",
    "            fig, ax1 = plt.subplots()\n",
    "            color = 'tab:red'\n",
    "            ax1.set_xlabel('Reservas')\n",
    "            ax1.set_ylabel(col, color=color)\n",
    "            ax1.plot(Df_Var.index,Df_Var[col],'o', color=color)\n",
    "            ax1.tick_params(axis='y', labelcolor=color)\n",
    "\n",
    "            ax2 = ax1.twinx()  # instantiate a second axes that shares the same x-axis\n",
    "\n",
    "            color = 'tab:blue'\n",
    "            ax2.set_ylabel('Transformacion', color=color)  # we already handled the x-label with ax1\n",
    "            ax2.plot(Df_Var.index,Df_Var['adr_Transf'],'o', color=color)\n",
    "            ax2.tick_params(axis='y', labelcolor=color)\n",
    "\n",
    "            fig.tight_layout()  # otherwise the right y-label is slightly clipped\n",
    "            plt.title(col)\n",
    "            plt.show()\n",
    "\n",
    "    if col == 'required_car_parking_spaces':\n",
    "        #continue\n",
    "        print (col)\n",
    "        ValUnicos = df0[col].value_counts(normalize=True)*100\n",
    "        ValUnicos_Id = ValUnicos[ValUnicos>1.0].index\n",
    "        \n",
    "        df0.loc[~df0[col].isin(ValUnicos_Id), col] = 1\n",
    "        # [0, 1]/ 0 No 1 Si 6.2%\n",
    "        ValUnicos = df0[col].value_counts(normalize=True)*100\n",
    "        print(ValUnicos)\n",
    "        \n",
    "    if col == 'total_of_special_requests':\n",
    "        #continue\n",
    "        print (col)\n",
    "        ValUnicos = df0[col].value_counts(normalize=True)*100\n",
    "        ValUnicos_Id = ValUnicos[ValUnicos>3.0].index\n",
    "        \n",
    "        df0.loc[~df0[col].isin(ValUnicos_Id), col] = 3\n",
    "        # [0, 1, 2, 3]/3 es Masde2: 2.4%\n",
    "        ValUnicos = df0[col].value_counts(normalize=True)*100\n",
    "        print(ValUnicos)"
   ],
   "execution_count": 0,
   "outputs": [
    {
     "output_type": "stream",
     "text": [
      "Requirement already satisfied: jenkspy in /usr/local/lib/python3.6/dist-packages (0.1.5)\n",
      "lead_time\n",
      "[0.0, 53.0, 131.0, 230.0, 360.0, 737.0]\n",
      "0.0      52139\n",
      "53.0     29616\n",
      "131.0    21756\n",
      "230.0    12463\n",
      "360.0     3416\n",
      "Name: LT_Transf, dtype: int64\n"
     ],
     "name": "stdout"
    },
    {
     "output_type": "display_data",
     "data": {
      "image/png": "[encoded data removed]",
      "text/plain": [
       "<Figure size 432x288 with 2 Axes>"
      ]
     },
     "metadata": {
      "tags": [],
      "needs_background": "light"
     }
    },
    {
     "output_type": "stream",
     "text": [
      "stays_in_weekend_nights\n",
      "0    43.553061\n",
      "2    27.898484\n",
      "1    25.652065\n",
      "4     1.553731\n",
      "3     1.054527\n",
      "5     0.288131\n",
      "Name: stays_in_weekend_nights, dtype: float64\n",
      "stays_in_week_nights\n",
      "2    28.213418\n",
      "1    25.387386\n",
      "3    18.643102\n",
      "5     9.277996\n",
      "4     8.009884\n",
      "0     6.403384\n",
      "7     2.809281\n",
      "6     1.255549\n",
      "Name: stays_in_week_nights, dtype: float64\n",
      "adults\n",
      "2    75.115169\n",
      "1    19.287210\n",
      "3     5.194740\n",
      "4     0.402881\n",
      "Name: adults, dtype: float64\n",
      "children\n",
      "0.0    92.801742\n",
      "1.0     4.071530\n",
      "2.0     3.058883\n",
      "3.0     0.067845\n",
      "Name: children, dtype: float64\n",
      "babies\n",
      "0    99.231929\n",
      "1     0.768071\n",
      "Name: babies, dtype: float64\n",
      "previous_cancellations\n",
      "0    94.569059\n",
      "1     5.430941\n",
      "Name: previous_cancellations, dtype: float64\n",
      "previous_bookings_not_canceled\n",
      "0    96.96792\n",
      "1     3.03208\n",
      "Name: previous_bookings_not_canceled, dtype: float64\n",
      "reserved_room_type\n",
      "booking_changes\n",
      "Int64Index([0, 1, 2, 3], dtype='int64')\n",
      "0    84.859703\n",
      "1    10.638244\n",
      "2     3.187034\n",
      "3     1.315018\n",
      "Name: booking_changes, dtype: float64\n",
      "agent\n",
      "OtroAgente    38.810621\n",
      "9.0           26.770249\n",
      "Particular    13.686238\n",
      "240.0         11.660943\n",
      "1.0            6.023118\n",
      "14.0           3.048832\n",
      "Name: agent, dtype: float64\n",
      "Index(['OtroAgente', 9.0, 'Particular', 240.0, 1.0, 14.0], dtype='object')\n",
      "company\n",
      "Particular    94.306893\n",
      "Compania       5.693107\n",
      "Name: company, dtype: float64\n",
      "days_in_waiting_list\n",
      "0    96.902588\n",
      "1     3.097412\n",
      "Name: days_in_waiting_list, dtype: float64\n",
      "adr\n",
      "[-6.38, 55.6, 93.21, 134.36, 194.2, 540.0]\n",
      "93.21     44005\n",
      "134.36    36842\n",
      "194.20    18272\n",
      "55.60     14431\n",
      "540.00     5840\n",
      "Name: adr_Transf, dtype: int64\n"
     ],
     "name": "stdout"
    },
    {
     "output_type": "display_data",
     "data": {
      "image/png": "[encoded data removed]",
      "text/plain": [
       "<Figure size 432x288 with 2 Axes>"
      ]
     },
     "metadata": {
      "tags": [],
      "needs_background": "light"
     }
    },
    {
     "output_type": "stream",
     "text": [
      "required_car_parking_spaces\n",
      "0    93.788424\n",
      "1     6.211576\n",
      "Name: required_car_parking_spaces, dtype: float64\n",
      "total_of_special_requests\n",
      "0    58.897730\n",
      "1    27.829801\n",
      "2    10.862719\n",
      "3     2.409750\n",
      "Name: total_of_special_requests, dtype: float64\n"
     ],
     "name": "stdout"
    }
   ]
  },
  {
   "cell_type": "markdown",
   "metadata": {
    "id": "JVc5tX4rFCZL",
    "colab_type": "text"
   },
   "source": [
    "#Pregunta C\n",
    "¿Qué variables se correlacionan más con la cancelación de la reserva? \n",
    "Para las cuatro más correlacionadas, mostrar un scatter plot en el que \n",
    "el eje x corresponda a la variable correlacionada, y el eje y a la cancelación.'''\n"
   ]
  },
  {
   "cell_type": "markdown",
   "metadata": {
    "id": "WSKZu0CWjHPV",
    "colab_type": "text"
   },
   "source": [
    "# Análisis de correlación"
   ]
  },
  {
   "cell_type": "markdown",
   "metadata": {
    "id": "FJy0YYsxKKuX",
    "colab_type": "text",
    "pycharm": {
     "name": "#%% md\n"
    }
   },
   "source": [
    "Correlación de variables numéricas sin transformar"
   ]
  },
  {
   "cell_type": "code",
   "metadata": {
    "id": "anBtnKWDArEL",
    "colab_type": "code",
    "outputId": "f60dde71-a521-444c-9e78-8e66dbba36e1",
    "colab": {
     "base_uri": "https://localhost:8080/",
     "height": 638
    },
    "pycharm": {
     "name": "#%%\n"
    }
   },
   "source": [
    "# Estoy filtrando los campos numéricos para determinar la correlación de cada uno \"is_canceled\"\n",
    "num_var=df0[['lead_time','arrival_date_year','arrival_date_week_number','arrival_date_day_of_month',\\\n",
    "     'stays_in_weekend_nights','stays_in_week_nights','adults','children','babies','is_repeated_guest','previous_cancellations',\\\n",
    "     'previous_bookings_not_canceled','booking_changes','agent','company','days_in_waiting_list','adr','required_car_parking_spaces',\\\n",
    "     'total_of_special_requests']]\n",
    "\n",
    "cor_var=pd.DataFrame(columns=('Variable','Correlación con is_canceled'))\n",
    "\n",
    "for col in num_var.columns:\n",
    "    a=np.corrcoef(num_var[col],df0['is_canceled'],rowvar=False)\n",
    "    a=round(a[0,1],3)\n",
    "    cor_var=cor_var.append({'Variable':col,'Correlación con is_canceled':a},ignore_index=True)\n",
    "\n",
    "cor_var.sort_values('Correlación con is_canceled',ascending=False)\n"
   ],
   "execution_count": 0,
   "outputs": [
    {
     "output_type": "execute_result",
     "data": {
      "text/html": [
       "<div>\n",
       "<style scoped>\n",
       "    .dataframe tbody tr th:only-of-type {\n",
       "        vertical-align: middle;\n",
       "    }\n",
       "\n",
       "    .dataframe tbody tr th {\n",
       "        vertical-align: top;\n",
       "    }\n",
       "\n",
       "    .dataframe thead th {\n",
       "        text-align: right;\n",
       "    }\n",
       "</style>\n",
       "<table border=\"1\" class=\"dataframe\">\n",
       "  <thead>\n",
       "    <tr style=\"text-align: right;\">\n",
       "      <th></th>\n",
       "      <th>Variable</th>\n",
       "      <th>Correlación con is_canceled</th>\n",
       "    </tr>\n",
       "  </thead>\n",
       "  <tbody>\n",
       "    <tr>\n",
       "      <th>0</th>\n",
       "      <td>lead_time</td>\n",
       "      <td>0.293</td>\n",
       "    </tr>\n",
       "    <tr>\n",
       "      <th>10</th>\n",
       "      <td>previous_cancellations</td>\n",
       "      <td>0.110</td>\n",
       "    </tr>\n",
       "    <tr>\n",
       "      <th>6</th>\n",
       "      <td>adults</td>\n",
       "      <td>0.060</td>\n",
       "    </tr>\n",
       "    <tr>\n",
       "      <th>15</th>\n",
       "      <td>days_in_waiting_list</td>\n",
       "      <td>0.054</td>\n",
       "    </tr>\n",
       "    <tr>\n",
       "      <th>16</th>\n",
       "      <td>adr</td>\n",
       "      <td>0.048</td>\n",
       "    </tr>\n",
       "    <tr>\n",
       "      <th>5</th>\n",
       "      <td>stays_in_week_nights</td>\n",
       "      <td>0.025</td>\n",
       "    </tr>\n",
       "    <tr>\n",
       "      <th>1</th>\n",
       "      <td>arrival_date_year</td>\n",
       "      <td>0.017</td>\n",
       "    </tr>\n",
       "    <tr>\n",
       "      <th>2</th>\n",
       "      <td>arrival_date_week_number</td>\n",
       "      <td>0.008</td>\n",
       "    </tr>\n",
       "    <tr>\n",
       "      <th>4</th>\n",
       "      <td>stays_in_weekend_nights</td>\n",
       "      <td>-0.002</td>\n",
       "    </tr>\n",
       "    <tr>\n",
       "      <th>3</th>\n",
       "      <td>arrival_date_day_of_month</td>\n",
       "      <td>-0.006</td>\n",
       "    </tr>\n",
       "    <tr>\n",
       "      <th>8</th>\n",
       "      <td>babies</td>\n",
       "      <td>-0.032</td>\n",
       "    </tr>\n",
       "    <tr>\n",
       "      <th>11</th>\n",
       "      <td>previous_bookings_not_canceled</td>\n",
       "      <td>-0.057</td>\n",
       "    </tr>\n",
       "    <tr>\n",
       "      <th>9</th>\n",
       "      <td>is_repeated_guest</td>\n",
       "      <td>-0.085</td>\n",
       "    </tr>\n",
       "    <tr>\n",
       "      <th>12</th>\n",
       "      <td>booking_changes</td>\n",
       "      <td>-0.144</td>\n",
       "    </tr>\n",
       "    <tr>\n",
       "      <th>17</th>\n",
       "      <td>required_car_parking_spaces</td>\n",
       "      <td>-0.195</td>\n",
       "    </tr>\n",
       "    <tr>\n",
       "      <th>18</th>\n",
       "      <td>total_of_special_requests</td>\n",
       "      <td>-0.235</td>\n",
       "    </tr>\n",
       "    <tr>\n",
       "      <th>7</th>\n",
       "      <td>children</td>\n",
       "      <td>NaN</td>\n",
       "    </tr>\n",
       "    <tr>\n",
       "      <th>13</th>\n",
       "      <td>agent</td>\n",
       "      <td>NaN</td>\n",
       "    </tr>\n",
       "    <tr>\n",
       "      <th>14</th>\n",
       "      <td>company</td>\n",
       "      <td>NaN</td>\n",
       "    </tr>\n",
       "  </tbody>\n",
       "</table>\n",
       "</div>"
      ],
      "text/plain": [
       "                          Variable  Correlación con is_canceled\n",
       "0                        lead_time                        0.293\n",
       "10          previous_cancellations                        0.110\n",
       "6                           adults                        0.060\n",
       "15            days_in_waiting_list                        0.054\n",
       "16                             adr                        0.048\n",
       "5             stays_in_week_nights                        0.025\n",
       "1                arrival_date_year                        0.017\n",
       "2         arrival_date_week_number                        0.008\n",
       "4          stays_in_weekend_nights                       -0.002\n",
       "3        arrival_date_day_of_month                       -0.006\n",
       "8                           babies                       -0.032\n",
       "11  previous_bookings_not_canceled                       -0.057\n",
       "9                is_repeated_guest                       -0.085\n",
       "12                 booking_changes                       -0.144\n",
       "17     required_car_parking_spaces                       -0.195\n",
       "18       total_of_special_requests                       -0.235\n",
       "7                         children                          NaN\n",
       "13                           agent                          NaN\n",
       "14                         company                          NaN"
      ]
     },
     "metadata": {
      "tags": []
     },
     "execution_count": 34
    }
   ]
  },
  {
   "cell_type": "code",
   "metadata": {
    "id": "GuNSeEmzNhHh",
    "colab_type": "code",
    "colab": {}
   },
   "source": [
    "plt.scatter(y=df0[['is_canceled']],x=df0[['lead_time']])\n",
    "plt.title('lead_time')\n",
    "plt.show()\n",
    "plt.scatter(y=df0[['is_canceled']],x=df0[['previous_cancellations']])\n",
    "plt.title('previous_cancellations')\n",
    "plt.show()\n",
    "plt.scatter(y=df0[['is_canceled']],x=df0[['adults']])\n",
    "plt.title('adults')\n",
    "plt.show()\n",
    "plt.scatter(y=df0[['is_canceled']],x=df0[['days_in_waiting_list']])\n",
    "plt.title('days_in_waiting_list')\n",
    "plt.show()"
   ],
   "execution_count": 0,
   "outputs": []
  },
  {
   "cell_type": "markdown",
   "metadata": {
    "id": "uRiAg5whKSTS",
    "colab_type": "text"
   },
   "source": [
    "Correlación de variables transformadas"
   ]
  },
  {
   "cell_type": "code",
   "metadata": {
    "id": "iRLlfEwSFgCU",
    "colab_type": "code",
    "outputId": "1c2c9de2-ad06-4303-f6b0-3ad597d4c137",
    "colab": {
     "base_uri": "https://localhost:8080/",
     "height": 1000
    },
    "pycharm": {
     "name": "#%%\n"
    }
   },
   "source": [
    "df1 = df0.copy()\n",
    "\n",
    "def cramers_v(x, y):\n",
    "    confusion_matrix = pd.crosstab(x,y)\n",
    "    chi2 = stats.chi2_contingency(confusion_matrix)[0]\n",
    "    n = confusion_matrix.sum().sum()\n",
    "    phi2 = chi2/n\n",
    "    r,k = confusion_matrix.shape\n",
    "    phi2corr = max(0, phi2-((k-1)*(r-1))/(n-1))\n",
    "    rcorr = r-((r-1)**2)/(n-1)\n",
    "    kcorr = k-((k-1)**2)/(n-1)\n",
    "    return np.sqrt(phi2corr/min((kcorr-1),(rcorr-1)))\n",
    "\n",
    "def correlation_ratio(categories, measurements):\n",
    "    fcat, _ = pd.factorize(categories)\n",
    "    cat_num = np.max(fcat)+1\n",
    "    y_avg_array = np.zeros(cat_num)\n",
    "    n_array = np.zeros(cat_num)\n",
    "    for i in range(0,cat_num):\n",
    "        cat_measures = measurements[np.argwhere(fcat == i).flatten()]\n",
    "        n_array[i] = len(cat_measures)\n",
    "        y_avg_array[i] = np.average(cat_measures)\n",
    "    y_total_avg = np.sum(np.multiply(y_avg_array,n_array))/np.sum(n_array)\n",
    "    numerator = np.sum(np.multiply(n_array,np.power(np.subtract(y_avg_array,y_total_avg),2)))\n",
    "    denominator = np.sum(np.power(np.subtract(measurements,y_total_avg),2))\n",
    "    if numerator == 0:\n",
    "        eta = 0.0\n",
    "    else:\n",
    "        eta = np.sqrt(numerator/denominator)\n",
    "    return eta\n",
    "\n",
    "variable = []\n",
    "crV = []\n",
    "CorrR = []\n",
    "for col in df1.columns:\n",
    "    if col in ('is_canceled', ): continue\n",
    "    #print (col)\n",
    "    crVi = cramers_v(df1[col],df1['is_canceled'])\n",
    "    CorrRi = correlation_ratio(df1[col],df1['is_canceled'])  \n",
    "    \n",
    "    variable.append(col)\n",
    "    crV.append(crVi)\n",
    "    CorrR.append(CorrRi)\n",
    "\n",
    "# dictionary of lists  \n",
    "dict = {'Variable': variable, 'cram_v': crV, 'corr_ratio': CorrR}\n",
    "Df_Corr = pd.DataFrame(dict) \n",
    "Df_MasCorr = Df_Corr.sort_values(by='cram_v', ascending=False).head(25).reset_index()\n",
    "print(Df_MasCorr)\n",
    "\n",
    "#Graficos scatter plot / heatmap\n",
    "for index,row in Df_MasCorr.iterrows():\n",
    "    varAplot = row['Variable']\n",
    "    DistVal = df1[varAplot].unique()\n",
    "    print (varAplot+'- Cantidad de distintos: ',len(DistVal))\n",
    "    if len( df1[varAplot].unique()) > 10: continue\n",
    "    x = df1[varAplot].values\n",
    "    y = df1['is_canceled'].values\n",
    "    # sns.set(style=\"ticks\", color_codes=True)\n",
    "    # sns.catplot(x=varAplot, y='is_canceled', data=df1)\n",
    "    \n",
    "    #plt.scatter(x, y, marker='o')\n",
    "    voter_tab = pd.crosstab(x, y, margins = False)\n",
    "    voter_tab.columns = [\"0\",\"1\"]\n",
    "    voter_tab.index = DistVal\n",
    "    dict = {'x': x, 'is_canceled': y}\n",
    "    Df_heatmap = pd.DataFrame(dict)\n",
    "    sns.heatmap(voter_tab,annot=True,fmt='g',cmap='Blues',cbar=False)\n",
    "    plt.title(varAplot)\n",
    "    plt.show()\n"
   ],
   "execution_count": 0,
   "outputs": [
    {
     "output_type": "stream",
     "text": [
      "    index                        Variable    cram_v  corr_ratio\n",
      "0      29              reservation_status  0.999996    1.000000\n",
      "1      21                    deposit_type  0.481464    0.481480\n",
      "2      30         reservation_status_date  0.479920    0.487923\n",
      "3       1                       lead_time  0.384801    0.389967\n",
      "4      26                             adr  0.361084    0.452484\n",
      "5      12                         country  0.359015    0.361072\n",
      "6      31                       LT_Transf  0.291921    0.291977\n",
      "7      16          previous_cancellations  0.270891    0.270943\n",
      "8      13                  market_segment  0.266672    0.266781\n",
      "9      28       total_of_special_requests  0.265161    0.265207\n",
      "10     32                     room_change  0.247759    0.247792\n",
      "11     22                           agent  0.229328    0.229418\n",
      "12     19              assigned_room_type  0.202748    0.202974\n",
      "13     27     required_car_parking_spaces  0.197342    0.197399\n",
      "14     20                 booking_changes  0.187833    0.187899\n",
      "15     14            distribution_channel  0.177034    0.177128\n",
      "16      0                           hotel  0.136483    0.136531\n",
      "17     25                   customer_type  0.136347    0.136439\n",
      "18     33                      adr_Transf  0.115610    0.115755\n",
      "19     17  previous_bookings_not_canceled  0.115319    0.115405\n",
      "20      7            stays_in_week_nights  0.112855    0.113114\n",
      "21     23                         company  0.099231    0.099310\n",
      "22     24            days_in_waiting_list  0.098940    0.099032\n",
      "23      4        arrival_date_week_number  0.095048    0.097312\n",
      "24      8                          adults  0.085074    0.085222\n",
      "reservation_status- Cantidad de distintos:  3\n"
     ],
     "name": "stdout"
    },
    {
     "output_type": "display_data",
     "data": {
      "image/png": "[encoded data removed]",
      "text/plain": [
       "<Figure size 432x288 with 1 Axes>"
      ]
     },
     "metadata": {
      "tags": [],
      "needs_background": "light"
     }
    },
    {
     "output_type": "stream",
     "text": [
      "deposit_type- Cantidad de distintos:  3\n"
     ],
     "name": "stdout"
    },
    {
     "output_type": "display_data",
     "data": {
      "image/png": "[encoded data removed]",
      "text/plain": [
       "<Figure size 432x288 with 1 Axes>"
      ]
     },
     "metadata": {
      "tags": [],
      "needs_background": "light"
     }
    },
    {
     "output_type": "stream",
     "text": [
      "reservation_status_date- Cantidad de distintos:  926\n",
      "lead_time- Cantidad de distintos:  479\n",
      "adr- Cantidad de distintos:  8879\n",
      "country- Cantidad de distintos:  178\n",
      "LT_Transf- Cantidad de distintos:  5\n"
     ],
     "name": "stdout"
    },
    {
     "output_type": "display_data",
     "data": {
      "image/png": "[encoded data removed]",
      "text/plain": [
       "<Figure size 432x288 with 1 Axes>"
      ]
     },
     "metadata": {
      "tags": [],
      "needs_background": "light"
     }
    },
    {
     "output_type": "stream",
     "text": [
      "previous_cancellations- Cantidad de distintos:  2\n"
     ],
     "name": "stdout"
    },
    {
     "output_type": "display_data",
     "data": {
      "image/png": "[encoded data removed]",
      "text/plain": [
       "<Figure size 432x288 with 1 Axes>"
      ]
     },
     "metadata": {
      "tags": [],
      "needs_background": "light"
     }
    },
    {
     "output_type": "stream",
     "text": [
      "market_segment- Cantidad de distintos:  8\n"
     ],
     "name": "stdout"
    },
    {
     "output_type": "display_data",
     "data": {
      "image/png": "[encoded data removed]",
      "text/plain": [
       "<Figure size 432x288 with 1 Axes>"
      ]
     },
     "metadata": {
      "tags": [],
      "needs_background": "light"
     }
    },
    {
     "output_type": "stream",
     "text": [
      "total_of_special_requests- Cantidad de distintos:  4\n"
     ],
     "name": "stdout"
    },
    {
     "output_type": "display_data",
     "data": {
      "image/png": "[encoded data removed]",
      "text/plain": [
       "<Figure size 432x288 with 1 Axes>"
      ]
     },
     "metadata": {
      "tags": [],
      "needs_background": "light"
     }
    },
    {
     "output_type": "stream",
     "text": [
      "room_change- Cantidad de distintos:  3\n"
     ],
     "name": "stdout"
    },
    {
     "output_type": "display_data",
     "data": {
      "image/png": "[encoded data removed]",
      "text/plain": [
       "<Figure size 432x288 with 1 Axes>"
      ]
     },
     "metadata": {
      "tags": [],
      "needs_background": "light"
     }
    },
    {
     "output_type": "stream",
     "text": [
      "agent- Cantidad de distintos:  6\n"
     ],
     "name": "stdout"
    },
    {
     "output_type": "display_data",
     "data": {
      "image/png": "[encoded data removed]",
      "text/plain": [
       "<Figure size 432x288 with 1 Axes>"
      ]
     },
     "metadata": {
      "tags": [],
      "needs_background": "light"
     }
    },
    {
     "output_type": "stream",
     "text": [
      "assigned_room_type- Cantidad de distintos:  12\n",
      "required_car_parking_spaces- Cantidad de distintos:  2\n"
     ],
     "name": "stdout"
    },
    {
     "output_type": "display_data",
     "data": {
      "image/png": "[encoded data removed]",
      "text/plain": [
       "<Figure size 432x288 with 1 Axes>"
      ]
     },
     "metadata": {
      "tags": [],
      "needs_background": "light"
     }
    },
    {
     "output_type": "stream",
     "text": [
      "booking_changes- Cantidad de distintos:  4\n"
     ],
     "name": "stdout"
    },
    {
     "output_type": "display_data",
     "data": {
      "image/png": "[encoded data removed]",
      "text/plain": [
       "<Figure size 432x288 with 1 Axes>"
      ]
     },
     "metadata": {
      "tags": [],
      "needs_background": "light"
     }
    },
    {
     "output_type": "stream",
     "text": [
      "distribution_channel- Cantidad de distintos:  5\n"
     ],
     "name": "stdout"
    },
    {
     "output_type": "display_data",
     "data": {
      "image/png": "[encoded data removed]",
      "text/plain": [
       "<Figure size 432x288 with 1 Axes>"
      ]
     },
     "metadata": {
      "tags": [],
      "needs_background": "light"
     }
    },
    {
     "output_type": "stream",
     "text": [
      "hotel- Cantidad de distintos:  2\n"
     ],
     "name": "stdout"
    },
    {
     "output_type": "display_data",
     "data": {
      "image/png": "[encoded data removed]",
      "text/plain": [
       "<Figure size 432x288 with 1 Axes>"
      ]
     },
     "metadata": {
      "tags": [],
      "needs_background": "light"
     }
    },
    {
     "output_type": "stream",
     "text": [
      "customer_type- Cantidad de distintos:  4\n"
     ],
     "name": "stdout"
    },
    {
     "output_type": "display_data",
     "data": {
      "image/png": "[encoded data removed]",
      "text/plain": [
       "<Figure size 432x288 with 1 Axes>"
      ]
     },
     "metadata": {
      "tags": [],
      "needs_background": "light"
     }
    },
    {
     "output_type": "stream",
     "text": [
      "adr_Transf- Cantidad de distintos:  5\n"
     ],
     "name": "stdout"
    },
    {
     "output_type": "display_data",
     "data": {
      "image/png": "[encoded data removed]",
      "text/plain": [
       "<Figure size 432x288 with 1 Axes>"
      ]
     },
     "metadata": {
      "tags": [],
      "needs_background": "light"
     }
    },
    {
     "output_type": "stream",
     "text": [
      "previous_bookings_not_canceled- Cantidad de distintos:  2\n"
     ],
     "name": "stdout"
    },
    {
     "output_type": "display_data",
     "data": {
      "image/png": "[encoded data removed]",
      "text/plain": [
       "<Figure size 432x288 with 1 Axes>"
      ]
     },
     "metadata": {
      "tags": [],
      "needs_background": "light"
     }
    },
    {
     "output_type": "stream",
     "text": [
      "stays_in_week_nights- Cantidad de distintos:  8\n"
     ],
     "name": "stdout"
    },
    {
     "output_type": "display_data",
     "data": {
      "image/png": "[encoded data removed]",
      "text/plain": [
       "<Figure size 432x288 with 1 Axes>"
      ]
     },
     "metadata": {
      "tags": [],
      "needs_background": "light"
     }
    },
    {
     "output_type": "stream",
     "text": [
      "company- Cantidad de distintos:  2\n"
     ],
     "name": "stdout"
    },
    {
     "output_type": "display_data",
     "data": {
      "image/png": "[encoded data removed]",
      "text/plain": [
       "<Figure size 432x288 with 1 Axes>"
      ]
     },
     "metadata": {
      "tags": [],
      "needs_background": "light"
     }
    },
    {
     "output_type": "stream",
     "text": [
      "days_in_waiting_list- Cantidad de distintos:  2\n"
     ],
     "name": "stdout"
    },
    {
     "output_type": "display_data",
     "data": {
      "image/png": "[encoded data removed]",
      "text/plain": [
       "<Figure size 432x288 with 1 Axes>"
      ]
     },
     "metadata": {
      "tags": [],
      "needs_background": "light"
     }
    },
    {
     "output_type": "stream",
     "text": [
      "arrival_date_week_number- Cantidad de distintos:  53\n",
      "adults- Cantidad de distintos:  4\n"
     ],
     "name": "stdout"
    },
    {
     "output_type": "display_data",
     "data": {
      "image/png": "[encoded data removed]",
      "text/plain": [
       "<Figure size 432x288 with 1 Axes>"
      ]
     },
     "metadata": {
      "tags": [],
      "needs_background": "light"
     }
    }
   ]
  },
  {
   "cell_type": "markdown",
   "metadata": {
    "id": "DHJig45FHbXM",
    "colab_type": "text",
    "pycharm": {
     "name": "#%% md\n"
    }
   },
   "source": [
    "#Pregunta D\n",
    "El dueño de un hotel les solicita que predigan con cierta antelación si un cliente \n",
    "cancelará su reserva. ¿Qué atributos utilizará como variables predictoras? ¿Por qué?\n"
   ]
  },
  {
   "cell_type": "markdown",
   "metadata": {
    "id": "Mt7fD_vOH0wh",
    "colab_type": "text",
    "pycharm": {
     "name": "#%% md\n"
    }
   },
   "source": [
    "Analizar correlacion y cantidad de valores de cada variable\n",
    "Al final\n",
    "\n",
    "Objetivo\n",
    "'is_canceled',\n",
    "\n",
    "En ppio a usar\n",
    "'hotel', 'lead_time','arrival_date_month','stays_in_weekend_nights','stays_in_week_nights',\n",
    "'adults', 'children', 'babies', 'meal', 'market_segment', 'distribution_channel', 'is_repeated_guest',\n",
    "'previous_cancellations','previous_bookings_not_canceled','reserved_room_type','assigned_room_type', 'cambio_room_type',\n",
    "'booking_changes', 'deposit_type', 'agent','company', 'days_in_waiting_list', 'customer_type', \n",
    "'adr','required_car_parking_spaces', 'total_of_special_requests'\n",
    "\n",
    "Se Descartan\n",
    "'arrival_date_year','arrival_date_week_number','arrival_date_day_of_month',\n",
    "'country','reservation_status','reservation_status_date'"
   ]
  },
  {
   "cell_type": "markdown",
   "metadata": {
    "id": "sUzVhlrlH8GJ",
    "colab_type": "text",
    "pycharm": {
     "name": "#%% md\n"
    }
   },
   "source": [
    "#Pregunta E\n",
    "¿Se encuentra balanceado el conjunto de datos que utilizará para desarrollar el algoritmo \n",
    "diseñado para contestar el punto d)? En base a lo respondido, ¿qué métricas de performance reportaría y por qué? \n",
    "\n"
   ]
  },
  {
   "cell_type": "code",
   "metadata": {
    "id": "lOG4IgJnHa-r",
    "colab_type": "code",
    "outputId": "17007e73-6696-496b-dc91-e1035087b5aa",
    "colab": {
     "base_uri": "https://localhost:8080/",
     "height": 67
    }
   },
   "source": [
    "# Veamos qué tan balanceados están los datos:\n",
    "target = 'is_canceled'\n",
    "print (df0[target].value_counts(normalize=True))"
   ],
   "execution_count": 0,
   "outputs": [
    {
     "output_type": "stream",
     "text": [
      "0    0.629584\n",
      "1    0.370416\n",
      "Name: is_canceled, dtype: float64\n"
     ],
     "name": "stdout"
    }
   ]
  },
  {
   "cell_type": "markdown",
   "metadata": {
    "id": "3KCL8tFNIgnx",
    "colab_type": "text",
    "pycharm": {
     "name": "#%% md\n"
    }
   },
   "source": [
    "Los datos no estan balanceados..."
   ]
  },
  {
   "cell_type": "markdown",
   "metadata": {
    "id": "xB37awSDKAAz",
    "colab_type": "text"
   },
   "source": [
    "#Pregunta F\n",
    "Suponiendo que al dueño del hotel le importa detectar todas las cancelaciones. ¿Qué medida de performance utilizaría? Si utiliza Fβ-Score, ¿qué valor de β eligiría?"
   ]
  },
  {
   "cell_type": "markdown",
   "metadata": {
    "id": "vt05sKlJKJYw",
    "colab_type": "text",
    "pycharm": {
     "name": "#%% md\n"
    }
   },
   "source": [
    "Si quiero detectar todas las cancelaciones quiero minimizar Falses Negativos.\n",
    "Busco un Recall Alto.\n",
    "Para Fβ-Score, el valor de β seria mayor a 1. F2"
   ]
  },
  {
   "cell_type": "markdown",
   "metadata": {
    "id": "CVtBn-XAKYKw",
    "colab_type": "text"
   },
   "source": [
    "#Pregunta G\n",
    "Implementar el algoritmo introducido en el punto d) utilizando árboles de decisión. En primer lugar, se deberá \n",
    "separar un 20% de los datos para usarlos como conjunto de evaluación (test set). El conjunto restante (80%) es el \n",
    "de desarrollo y es con el que se deberá continuar haciendo el trabajo. Realizar los siguientes puntos:\n",
    "\n",
    "1) Armar conjuntos de entrenamiento y validación con proporción 80-20 del conjunto de desarrollo de forma aleatoria. \n",
    "Usar 50 semillas distintas y realizar un gráfico de caja y bigotes que muestre cómo varía la métrica elegida en c) \n",
    "en esas 50 particiones distintas.\n"
   ]
  },
  {
   "cell_type": "markdown",
   "metadata": {
    "id": "Jx-eyfUaq6cQ",
    "colab_type": "text",
    "pycharm": {
     "name": "#%% md\n"
    }
   },
   "source": [
    "Prepara datos de entrada al modelo"
   ]
  },
  {
   "cell_type": "code",
   "metadata": {
    "id": "rPJ0g-QKKXoY",
    "colab_type": "code",
    "outputId": "bfae4cf8-e63b-4327-c120-e7678ea92ec0",
    "cellView": "both",
    "colab": {
     "base_uri": "https://localhost:8080/",
     "height": 843
    }
   },
   "source": [
    "df2 = df1.copy()\n",
    "\n",
    "df2['agent'] = df2['agent'].apply(str)\n",
    "print(df2.info())\n",
    "\n",
    "# Variables a utilizar\n",
    "listavar = ['hotel','arrival_date_month','stays_in_weekend_nights','stays_in_week_nights',\n",
    "'adults', 'children', 'babies', 'meal', 'market_segment', 'distribution_channel', 'is_repeated_guest',\n",
    "'previous_cancellations','previous_bookings_not_canceled','reserved_room_type','assigned_room_type',\n",
    "'booking_changes', 'deposit_type', 'agent','company', 'days_in_waiting_list', 'customer_type', \n",
    "'required_car_parking_spaces', 'total_of_special_requests','LT_Transf','room_change','adr_Transf']\n",
    "\n",
    "# One hot encoding\n",
    "ohe = OneHotEncoder()\n",
    "encoded = ohe.fit_transform(df2[listavar])\n",
    "#print(ohe.categories_)\n",
    "featnames = list(ohe.get_feature_names())\n",
    "print(featnames)\n",
    "\n",
    "'''Arma atributos y target'''\n",
    "x_data = encoded.toarray()\n",
    "y_data = df2['is_canceled'].values\n",
    "\n",
    "features = listavar\n",
    "target = 'is_canceled'\n",
    "\n",
    "'''Divide los datos de entrada: Desarrollo y Held-Out'''\n",
    "if True:\n",
    "    # En entrenamiento y prueba. 80, 20.\n",
    "    x_train, x_test, y_train, y_test = train_test_split(x_data, y_data, test_size=0.2, random_state=42,stratify=y_data)\n",
    "    # x_test y y_test no los tocamos hasta el final\n",
    "\n",
    "    # Podemos ver ahora como quedo\n",
    "    print('Entrenamiento: {}'.format(len(x_train)))\n",
    "    #print('Validacion: {}'.format(len(x_val)))\n",
    "    print('Prueba: {}'.format(len(x_test)))\n",
    "\n",
    "    # Tambien podemos ver como quedaron balanceadas las clases en cada split:\n",
    "    # Ahora los splits tienen mas o menos el mismo balance\n",
    "    for split_name, split in zip(['Entrenamiento','Prueba'],[y_train,y_test]): \n",
    "      print('{}: {:.3f}'.format(split_name,pd.Series(split).value_counts(normalize=True)[0]))"
   ],
   "execution_count": 0,
   "outputs": [
    {
     "output_type": "stream",
     "text": [
      "<class 'pandas.core.frame.DataFrame'>\n",
      "RangeIndex: 119390 entries, 0 to 119389\n",
      "Data columns (total 35 columns):\n",
      " #   Column                          Non-Null Count   Dtype   \n",
      "---  ------                          --------------   -----   \n",
      " 0   hotel                           119390 non-null  object  \n",
      " 1   is_canceled                     119390 non-null  int64   \n",
      " 2   lead_time                       119390 non-null  int64   \n",
      " 3   arrival_date_year               119390 non-null  int64   \n",
      " 4   arrival_date_month              119390 non-null  object  \n",
      " 5   arrival_date_week_number        119390 non-null  int64   \n",
      " 6   arrival_date_day_of_month       119390 non-null  int64   \n",
      " 7   stays_in_weekend_nights         119390 non-null  int64   \n",
      " 8   stays_in_week_nights            119390 non-null  int64   \n",
      " 9   adults                          119390 non-null  int64   \n",
      " 10  children                        119390 non-null  float64 \n",
      " 11  babies                          119390 non-null  int64   \n",
      " 12  meal                            119390 non-null  object  \n",
      " 13  country                         119390 non-null  object  \n",
      " 14  market_segment                  119390 non-null  object  \n",
      " 15  distribution_channel            119390 non-null  object  \n",
      " 16  is_repeated_guest               119390 non-null  int64   \n",
      " 17  previous_cancellations          119390 non-null  int64   \n",
      " 18  previous_bookings_not_canceled  119390 non-null  int64   \n",
      " 19  reserved_room_type              119390 non-null  object  \n",
      " 20  assigned_room_type              119390 non-null  object  \n",
      " 21  booking_changes                 119390 non-null  int64   \n",
      " 22  deposit_type                    119390 non-null  object  \n",
      " 23  agent                           119390 non-null  object  \n",
      " 24  company                         119390 non-null  object  \n",
      " 25  days_in_waiting_list            119390 non-null  int64   \n",
      " 26  customer_type                   119390 non-null  object  \n",
      " 27  adr                             119390 non-null  float64 \n",
      " 28  required_car_parking_spaces     119390 non-null  int64   \n",
      " 29  total_of_special_requests       119390 non-null  int64   \n",
      " 30  reservation_status              119390 non-null  object  \n",
      " 31  reservation_status_date         119390 non-null  object  \n",
      " 32  LT_Transf                       119390 non-null  category\n",
      " 33  room_change                     119390 non-null  object  \n",
      " 34  adr_Transf                      119390 non-null  category\n",
      "dtypes: category(2), float64(2), int64(16), object(15)\n",
      "memory usage: 30.3+ MB\n",
      "None\n",
      "['x0_City Hotel', 'x0_Resort Hotel', 'x1_April', 'x1_August', 'x1_December', 'x1_February', 'x1_January', 'x1_July', 'x1_June', 'x1_March', 'x1_May', 'x1_November', 'x1_October', 'x1_September', 'x2_0', 'x2_1', 'x2_2', 'x2_3', 'x2_4', 'x2_5', 'x3_0', 'x3_1', 'x3_2', 'x3_3', 'x3_4', 'x3_5', 'x3_6', 'x3_7', 'x4_1', 'x4_2', 'x4_3', 'x4_4', 'x5_0.0', 'x5_1.0', 'x5_2.0', 'x5_3.0', 'x6_0', 'x6_1', 'x7_BB', 'x7_FB', 'x7_HB', 'x7_SC', 'x7_Undefined', 'x8_Aviation', 'x8_Complementary', 'x8_Corporate', 'x8_Direct', 'x8_Groups', 'x8_Offline TA/TO', 'x8_Online TA', 'x8_Undefined', 'x9_Corporate', 'x9_Direct', 'x9_GDS', 'x9_TA/TO', 'x9_Undefined', 'x10_0', 'x10_1', 'x11_0', 'x11_1', 'x12_0', 'x12_1', 'x13_A', 'x13_B', 'x13_C', 'x13_D', 'x13_E', 'x13_F', 'x13_G', 'x13_H', 'x13_L', 'x13_P', 'x14_A', 'x14_B', 'x14_C', 'x14_D', 'x14_E', 'x14_F', 'x14_G', 'x14_H', 'x14_I', 'x14_K', 'x14_L', 'x14_P', 'x15_0', 'x15_1', 'x15_2', 'x15_3', 'x16_No Deposit', 'x16_Non Refund', 'x16_Refundable', 'x17_1.0', 'x17_14.0', 'x17_240.0', 'x17_9.0', 'x17_OtroAgente', 'x17_Particular', 'x18_Compania', 'x18_Particular', 'x19_0', 'x19_1', 'x20_Contract', 'x20_Group', 'x20_Transient', 'x20_Transient-Party', 'x21_0', 'x21_1', 'x22_0', 'x22_1', 'x22_2', 'x22_3', 'x23_0.0', 'x23_53.0', 'x23_131.0', 'x23_230.0', 'x23_360.0', 'x24_mejor', 'x24_peor', 'x24_sincambio', 'x25_55.6', 'x25_93.21', 'x25_134.36', 'x25_194.2', 'x25_540.0']\n",
      "Entrenamiento: 95512\n",
      "Prueba: 23878\n",
      "Entrenamiento: 0.630\n",
      "Prueba: 0.630\n"
     ],
     "name": "stdout"
    }
   ]
  },
  {
   "cell_type": "code",
   "execution_count": null,
   "outputs": [],
   "source": [
    "''' Entrena el Arbol'''\n",
    "n_seeds = 50\n",
    "accs = []\n",
    "precisions = []\n",
    "recalls = []\n",
    "f1s = []\n",
    "\n",
    "for seed in range(n_seeds):\n",
    "  x_train_, x_val, y_train_, y_val = train_test_split(x_train, y_train, test_size=0.2, random_state=seed,stratify=y_train)\n",
    "  #{'max_depth': 9, 'criterion': 'entropy', 'ccp_alpha': 0.010101010101010102} # 'gini'}\n",
    "  arbol_sklearn = DecisionTreeClassifier(criterion='gini',max_depth=20,min_samples_leaf=3, ccp_alpha=0.0)\n",
    "  arbol_sklearn.fit(x_train_,y_train_)\n",
    "  y_pred_val = arbol_sklearn.predict(x_val)\n",
    "  \n",
    "  #Metricas\n",
    "  accs.append(accuracy_score(y_val,y_pred_val))\n",
    "  precisions.append(precision_score(y_val,y_pred_val))\n",
    "  recalls.append(recall_score(y_val,y_pred_val))\n",
    "  f1s.append(f1_score(y_val,y_pred_val))\n",
    "\n",
    "all_metrics = accs + precisions + recalls + f1s\n",
    "metric_labels = ['Accuracy']*len(accs) + ['Precision']*len(precisions) + ['Recall']*len(recalls) + ['F1 Score']*len(f1s)\n",
    "\n",
    "Df_FeatImp = pd.DataFrame(arbol_sklearn.feature_importances_)\n",
    "print(Df_FeatImp)\n",
    "\n",
    "feat_imps = arbol_sklearn.feature_importances_\n",
    "for feat_imp,feat in sorted(zip(feat_imps,features)):\n",
    "    #if feat_imp>0:\n",
    "    print('{}: {}'.format(feat,feat_imp))\n",
    "\n",
    "sns.set_context('talk')\n",
    "plt.figure(figsize=(15,8))\n",
    "sns.boxplot(metric_labels,all_metrics)\n",
    "plt.show()\n",
    "\n",
    "featnames = list(ohe.get_feature_names())\n",
    "plt.figure(figsize=(20,10))\n",
    "plot_tree(arbol_sklearn,max_depth=5,feature_names=featnames,filled=True);\n",
    "plt.show()\n",
    "\n"
   ],
   "metadata": {
    "collapsed": false,
    "pycharm": {
     "name": "#%%\n"
    }
   }
  },
  {
   "cell_type": "markdown",
   "source": [
    "2) Usar validación cruzada de 50 iteraciones (50-fold cross validation). Realizar un gráfico de caja y bigotes que \n",
    "muestre cómo varía la métrica elegida en esas 50 particiones distintas."
   ],
   "metadata": {
    "collapsed": false
   }
  },
  {
   "cell_type": "code",
   "execution_count": null,
   "outputs": [],
   "source": [
    "from sklearn.model_selection import StratifiedKFold, KFold, GridSearchCV, RandomizedSearchCV\n",
    "from sklearn.metrics import make_scorer\n",
    "\n",
    "params_grid = {'criterion':['gini','entropy'],\n",
    "               'max_depth':list(range(1,30)),\n",
    "                'min_samples_leaf':list(range(1,10))}\n",
    "# 'ccp_alpha':np.linspace(0,0.5,100)}\n",
    "\n",
    "kfoldcv = StratifiedKFold(n_splits=10)\n",
    "base_tree = DecisionTreeClassifier()\n",
    "# scorer_fn = make_scorer(f1_score)\n",
    "# scorer_ac = make_scorer(accuracy_score)\n",
    "# scorer_pr = make_scorer(precision_score)\n",
    "scorer_rec = make_scorer(recall_score)\n",
    "\n",
    "randomcv = RandomizedSearchCV(estimator=base_tree,param_distributions = params_grid,scoring=scorer_rec,cv=kfoldcv,n_iter=50)\n",
    "randomcv.fit(x_train,y_train);\n",
    "\n",
    "# Podemos ver todas las combinaciones de parámetros y qué puntajes obtuvieron, \n",
    "# junto a tiempos de entrenamiento y predicción.\n",
    "Df_ResultsCV = pd.DataFrame(randomcv.cv_results_)\n",
    "print(Df_ResultsCV)\n",
    "#Df_ResultsCV.to_csv('Df_ResultsCV.csv')\n",
    "\n",
    "# Podemos ver cuál fue la mejor combinación de hiperparámetros:\n",
    "print(randomcv.best_params_)\n",
    "\n",
    "# Podemos pedir el árbol correspondiente ya entrenado y ver cuán importante es cada atributo\n",
    "best_tree = randomcv.best_estimator_\n",
    "print(best_tree)\n",
    "feat_imps = best_tree.feature_importances_\n",
    "print(feat_imps)\n",
    "# Se puede ver que una gran parte de los atributos fueron ignorados por el árbol y por eso valen cero. \n",
    "# Es decir, el árbol no tomo ninguna decisión basándose en ellos. Ahora veamos a qué variables corresponden \n",
    "# los índices con importancia mayor a 0\n",
    "\n",
    "for feat_imp,feat in sorted(zip(feat_imps,features)):\n",
    "  if feat_imp>0:\n",
    "    print('{}: {}'.format(feat,feat_imp))\n",
    "\n",
    "\n",
    "### Metricas\n",
    "\n",
    "from sklearn.metrics import confusion_matrix, classification_report\n",
    "\n",
    "best_model = randomcv.best_estimator_\n",
    "y_pred = best_model.predict(x_test)\n",
    "\n",
    "print(classification_report(y_test,y_pred))\n",
    "\n",
    "cm = confusion_matrix(y_test,y_pred)\n",
    "sns.heatmap(cm, cmap='Blues',annot=True,fmt='g')\n",
    "plt.xlabel('Predicted')\n",
    "plt.ylabel('True')\n",
    "plt.show()"
   ],
   "metadata": {
    "collapsed": false,
    "pycharm": {
     "name": "#%%\n"
    }
   }
  },
  {
   "cell_type": "markdown",
   "source": [
    "#Pregunta H\n",
    "Graficar el árbol de decisión con mejor performance encontrado en el punto g2). \n",
    "Analizar el árbol de decisión armado (atributos elegidos y decisiones evaluadas)."
   ],
   "metadata": {
    "collapsed": false
   }
  },
  {
   "cell_type": "code",
   "execution_count": null,
   "outputs": [],
   "source": [
    "# Plotea el Arbol\n",
    "#featnames = ['year'] + list(ohe.get_feature_names())\n",
    "featnames = list(ohe.get_feature_names())\n",
    "\n",
    "plt.figure(figsize=(20,10))\n",
    "plot_tree(best_tree,max_depth=3,feature_names=featnames,filled=True);\n",
    "plt.show()"
   ],
   "metadata": {
    "collapsed": false,
    "pycharm": {
     "name": "#%%\n"
    }
   }
  },
  {
   "cell_type": "markdown",
   "source": [
    "#Pregunta I\n",
    "Usando validación cruzada de 10 iteraciones (10-fold cross validation), \n",
    "probar distintos valores de α del algoritmo de poda mínima de complejidad de costos \n",
    "(algoritmo de poda de sklearn). Hacer gráficos de la performance en validación y entrenamiento \n",
    "en función del α. Explicar cómo varía la profundidad de los árboles al realizar la poda con \n",
    "distintos valores de α."
   ],
   "metadata": {
    "collapsed": false
   }
  },
  {
   "cell_type": "code",
   "execution_count": null,
   "outputs": [],
   "source": [
    "from sklearn.model_selection import StratifiedKFold, KFold, GridSearchCV, RandomizedSearchCV\n",
    "from sklearn.metrics import make_scorer\n",
    "\n",
    "params_grid = {'criterion':['gini',],\n",
    "               'max_depth':[27,],\n",
    "               'min_samples_leaf':[1,],\n",
    "               'ccp_alpha':np.linspace(0,0.1,100)}\n",
    "\n",
    "kfoldcv = StratifiedKFold(n_splits=10)\n",
    "base_tree = DecisionTreeClassifier()\n",
    "scorer_fn = make_scorer(f1_score)\n",
    "randomcv = RandomizedSearchCV(estimator=base_tree,param_distributions = params_grid,scoring=scorer_fn,cv=kfoldcv,n_iter=10)\n",
    "randomcv.fit(x_train,y_train);\n",
    "\n",
    "# Podemos ver todas las combinaciones de parámetros y qué puntajes obtuvieron, \n",
    "# junto a tiempos de entrenamiento y predicción.\n",
    "Resultados = pd.DataFrame(randomcv.cv_results_)#.head()\n",
    "print(Resultados)\n",
    "# Podemos ver cuál fue la mejor combinación de hiperparámetros:\n",
    "print(randomcv.best_params_)\n",
    "\n",
    "# Podemos pedir el árbol correspondiente ya entrenado y ver cuán importante es cada atributo\n",
    "best_tree = randomcv.best_estimator_\n",
    "feat_imps = best_tree.feature_importances_\n",
    "print(feat_imps)\n",
    "# Se puede ver que una gran parte de los atributos fueron ignorados por el árbol y por eso valen cero. \n",
    "# Es decir, el árbol no tomo ninguna decisión basándose en ellos. Ahora veamos a qué variables corresponden \n",
    "# los índices con importancia mayor a 0\n",
    "\n",
    "for feat_imp,feat in sorted(zip(feat_imps,features)):\n",
    "  if feat_imp>0:\n",
    "    print('{}: {}'.format(feat,feat_imp))\n"
   ],
   "metadata": {
    "collapsed": false,
    "pycharm": {
     "name": "#%%\n"
    }
   }
  },
  {
   "cell_type": "code",
   "execution_count": null,
   "outputs": [],
   "source": [
    "print(Resultados.mean_test_score)"
   ],
   "metadata": {
    "collapsed": false,
    "pycharm": {
     "name": "#%%\n"
    }
   }
  },
  {
   "cell_type": "markdown",
   "source": [
    "# Pregunta k\n",
    "Para el árbol sin poda, obtener la importancia de los descriptores usando la técnica de eliminación \n",
    "recursiva. Reentrenar el árbol usando sólo los 3 descriptores más importantes. Comparar la performance \n",
    "en el conjunto de prueba."
   ],
   "metadata": {
    "collapsed": false
   }
  },
  {
   "cell_type": "code",
   "execution_count": null,
   "outputs": [],
   "source": [],
   "metadata": {
    "collapsed": false,
    "pycharm": {
     "name": "#%%\n"
    }
   }
  },
  {
   "cell_type": "code",
   "execution_count": null,
   "outputs": [],
   "source": [],
   "metadata": {
    "collapsed": false,
    "pycharm": {
     "name": "#%%\n"
    }
   }
  },
  {
   "cell_type": "code",
   "metadata": {
    "id": "OolMzbV1K1u4",
    "colab_type": "code",
    "colab": {}
   },
   "source": [],
   "execution_count": 0,
   "outputs": []
  },
  {
   "cell_type": "markdown",
   "metadata": {
    "id": "rGd73JM7KiCI",
    "colab_type": "text"
   },
   "source": [
    "2) Usar validación cruzada de 50 iteraciones (50-fold cross validation). Realizar un gráfico de caja y bigotes que \n",
    "muestre cómo varía la métrica elegida en esas 50 particiones distintas."
   ]
  },
  {
   "cell_type": "code",
   "metadata": {
    "id": "OGtQhJseIgHa",
    "colab_type": "code",
    "outputId": "48c58380-7b94-43a7-8129-adcb976f2805",
    "colab": {
     "base_uri": "https://localhost:8080/",
     "height": 1000
    }
   },
   "source": [
    "from sklearn.model_selection import StratifiedKFold, KFold, GridSearchCV, RandomizedSearchCV\n",
    "from sklearn.metrics import make_scorer\n",
    "\n",
    "params_grid = {'criterion':['gini','entropy'],\n",
    "               'max_depth':list(range(1,30)),\n",
    "                'min_samples_leaf':list(range(1,10))}\n",
    "# 'ccp_alpha':np.linspace(0,0.5,100)}\n",
    "\n",
    "kfoldcv = StratifiedKFold(n_splits=10)\n",
    "base_tree = DecisionTreeClassifier()\n",
    "# scorer_fn = make_scorer(f1_score)\n",
    "# scorer_ac = make_scorer(accuracy_score)\n",
    "# scorer_pr = make_scorer(precision_score)\n",
    "scorer_rec = make_scorer(recall_score)\n",
    "\n",
    "randomcv = RandomizedSearchCV(estimator=base_tree,param_distributions = params_grid,scoring=scorer_rec,cv=kfoldcv,n_iter=50)\n",
    "randomcv.fit(x_train,y_train);\n",
    "\n",
    "# Podemos ver todas las combinaciones de parámetros y qué puntajes obtuvieron, \n",
    "# junto a tiempos de entrenamiento y predicción.\n",
    "Df_ResultsCV = pd.DataFrame(randomcv.cv_results_)\n",
    "print(Df_ResultsCV)\n",
    "#Df_ResultsCV.to_csv('Df_ResultsCV.csv')\n",
    "\n",
    "# Podemos ver cuál fue la mejor combinación de hiperparámetros:\n",
    "print(randomcv.best_params_)\n",
    "\n",
    "# Podemos pedir el árbol correspondiente ya entrenado y ver cuán importante es cada atributo\n",
    "best_tree = randomcv.best_estimator_\n",
    "print(best_tree)\n",
    "feat_imps = best_tree.feature_importances_\n",
    "print(feat_imps)\n",
    "# Se puede ver que una gran parte de los atributos fueron ignorados por el árbol y por eso valen cero. \n",
    "# Es decir, el árbol no tomo ninguna decisión basándose en ellos. Ahora veamos a qué variables corresponden \n",
    "# los índices con importancia mayor a 0\n",
    "\n",
    "for feat_imp,feat in sorted(zip(feat_imps,features)):\n",
    "  if feat_imp>0:\n",
    "    print('{}: {}'.format(feat,feat_imp))\n",
    "\n",
    "\n",
    "### Metricas\n",
    "\n",
    "from sklearn.metrics import confusion_matrix, classification_report\n",
    "\n",
    "best_model = randomcv.best_estimator_\n",
    "y_pred = best_model.predict(x_test)\n",
    "\n",
    "print(classification_report(y_test,y_pred))\n",
    "\n",
    "cm = confusion_matrix(y_test,y_pred)\n",
    "sns.heatmap(cm, cmap='Blues',annot=True,fmt='g')\n",
    "plt.xlabel('Predicted')\n",
    "plt.ylabel('True')\n",
    "plt.show()"
   ],
   "execution_count": 0,
   "outputs": [
    {
     "output_type": "stream",
     "text": [
      "    mean_fit_time  std_fit_time  ...  std_test_score  rank_test_score\n",
      "0        1.618388      0.068917  ...        0.010311               17\n",
      "1        1.067231      0.009875  ...        0.007631               40\n",
      "2        1.112349      0.014774  ...        0.008077               43\n",
      "3        1.403074      0.004577  ...        0.009306               33\n",
      "4        1.579792      0.017477  ...        0.010499               19\n",
      "5        1.692486      0.020745  ...        0.009019                9\n",
      "6        1.650236      0.021433  ...        0.011293               14\n",
      "7        1.660100      0.021703  ...        0.008553               13\n",
      "8        1.678590      0.020585  ...        0.009324                7\n",
      "9        1.248607      0.016384  ...        0.008224               36\n",
      "10       0.581131      0.006849  ...        0.010233               48\n",
      "11       1.064633      0.010817  ...        0.007645               39\n",
      "12       1.596975      0.015559  ...        0.006692               21\n",
      "13       1.749933      0.012141  ...        0.007943                3\n",
      "14       1.708906      0.032585  ...        0.008412                8\n",
      "15       1.463640      0.021880  ...        0.008873               30\n",
      "16       1.450431      0.019337  ...        0.010079               28\n",
      "17       0.588903      0.008295  ...        0.010233               48\n",
      "18       1.551907      0.019212  ...        0.007864               25\n",
      "19       1.693280      0.023478  ...        0.008470                4\n",
      "20       1.617909      0.017643  ...        0.006518               16\n",
      "21       1.357873      0.016624  ...        0.012354               35\n",
      "22       1.743989      0.017707  ...        0.007617                2\n",
      "23       1.753724      0.011824  ...        0.005900               10\n",
      "24       0.722443      0.007862  ...        0.015738               46\n",
      "25       0.581304      0.006422  ...        0.010233               48\n",
      "26       1.766931      0.033454  ...        0.006379               11\n",
      "27       1.604883      0.104059  ...        0.007644               26\n",
      "28       1.145129      0.013057  ...        0.008163               42\n",
      "29       0.462805      0.053856  ...        0.010213               47\n",
      "30       1.602655      0.022339  ...        0.009932               22\n",
      "31       1.768777      0.017767  ...        0.005984                6\n",
      "32       1.739234      0.011459  ...        0.009831                5\n",
      "33       1.440608      0.100063  ...        0.007166               32\n",
      "34       1.756229      0.054910  ...        0.010258               15\n",
      "35       1.613895      0.021424  ...        0.007906               24\n",
      "36       1.096110      0.017624  ...        0.008505               44\n",
      "37       1.615367      0.042858  ...        0.004769               27\n",
      "38       1.538959      0.032754  ...        0.009204               29\n",
      "39       1.314932      0.098302  ...        0.007116               41\n",
      "40       1.336194      0.070293  ...        0.008106               37\n",
      "41       1.786979      0.055699  ...        0.007808               12\n",
      "42       1.315745      0.014788  ...        0.008450               38\n",
      "43       1.849110      0.013479  ...        0.007390                1\n",
      "44       1.471052      0.017698  ...        0.011197               31\n",
      "45       1.635052      0.021835  ...        0.007989               23\n",
      "46       1.480549      0.025642  ...        0.009259               34\n",
      "47       1.670912      0.017775  ...        0.006768               20\n",
      "48       1.029769      0.077556  ...        0.013485               45\n",
      "49       1.669221      0.051997  ...        0.008804               18\n",
      "\n",
      "[50 rows x 21 columns]\n",
      "{'min_samples_leaf': 1, 'max_depth': 27, 'criterion': 'gini'}\n",
      "DecisionTreeClassifier(ccp_alpha=0.0, class_weight=None, criterion='gini',\n",
      "                       max_depth=27, max_features=None, max_leaf_nodes=None,\n",
      "                       min_impurity_decrease=0.0, min_impurity_split=None,\n",
      "                       min_samples_leaf=1, min_samples_split=2,\n",
      "                       min_weight_fraction_leaf=0.0, presort='deprecated',\n",
      "                       random_state=None, splitter='best')\n",
      "[2.87994967e-03 6.65988273e-03 7.64854986e-03 8.59480762e-03\n",
      " 5.63140796e-03 5.16518831e-03 5.15034576e-03 7.76117125e-03\n",
      " 7.43011656e-03 6.02772546e-03 8.11553105e-03 5.00188125e-03\n",
      " 8.15810535e-03 6.76167662e-03 1.37000255e-02 1.12940698e-02\n",
      " 1.13496850e-02 2.07987971e-03 2.01545742e-03 1.16779933e-03\n",
      " 6.97393233e-03 1.20340049e-02 1.29297637e-02 1.15406912e-02\n",
      " 8.22875225e-03 8.31777706e-03 2.24655905e-03 3.45528792e-03\n",
      " 6.49414490e-03 7.41062446e-03 3.17106021e-03 8.60572925e-04\n",
      " 4.44942959e-03 4.24038013e-03 1.24725496e-03 1.61065924e-04\n",
      " 7.75381777e-04 5.92194318e-04 7.94225791e-03 1.57521847e-03\n",
      " 6.74170540e-03 3.89236274e-03 1.66715607e-03 4.04035025e-04\n",
      " 4.69697811e-04 1.22038203e-03 1.40462282e-03 3.51376120e-03\n",
      " 3.36446662e-03 4.26258097e-02 0.00000000e+00 2.01309757e-03\n",
      " 2.27610270e-03 2.45794463e-04 1.50916599e-03 6.74879998e-05\n",
      " 5.92879637e-04 8.65129483e-04 2.06027964e-04 3.61523257e-02\n",
      " 1.12572168e-02 6.30222396e-04 4.36443763e-03 8.49119135e-04\n",
      " 9.08698709e-04 4.63537305e-03 2.86329244e-03 9.99623808e-04\n",
      " 1.03558159e-03 2.54831038e-04 4.75331489e-05 7.48757394e-05\n",
      " 4.38032925e-03 1.61060481e-03 1.24673253e-03 5.05713562e-03\n",
      " 2.97300913e-03 1.40110208e-03 1.41317885e-03 4.09693993e-04\n",
      " 6.07753141e-05 5.51405913e-05 0.00000000e+00 0.00000000e+00\n",
      " 1.16327940e-02 5.74161298e-03 3.03331691e-03 1.72687684e-03\n",
      " 6.37150155e-04 2.98421608e-01 2.95893196e-04 1.43261924e-03\n",
      " 1.28384380e-03 5.93097327e-03 9.48385029e-04 2.75047737e-02\n",
      " 4.03646690e-03 6.43353184e-04 2.76996538e-03 7.29735546e-04\n",
      " 1.50672782e-03 1.13867718e-03 3.20136396e-04 1.85634742e-02\n",
      " 8.51208469e-03 2.39036461e-02 1.72721436e-03 5.39289203e-02\n",
      " 4.27431065e-03 3.15376485e-03 2.26151156e-03 1.79702859e-02\n",
      " 6.78092207e-03 6.42187880e-03 7.38720966e-03 1.91452185e-03\n",
      " 1.67058725e-05 2.56716821e-05 4.34926888e-02 5.29356200e-03\n",
      " 9.41256403e-03 1.04799399e-02 7.19572380e-03 4.54836103e-03]\n",
      "days_in_waiting_list: 0.001167799329534582\n",
      "company: 0.00201545741673822\n",
      "agent: 0.0020798797141431966\n",
      "hotel: 0.002879949672459366\n",
      "previous_cancellations: 0.005001881251191626\n",
      "babies: 0.0051503457584612155\n",
      "children: 0.00516518830805289\n",
      "adults: 0.005631407958596773\n",
      "distribution_channel: 0.006027725459136311\n",
      "arrival_date_month: 0.006659882732285427\n",
      "reserved_room_type: 0.006761676620655827\n",
      "customer_type: 0.006973932326848675\n",
      "market_segment: 0.007430116555235597\n",
      "stays_in_weekend_nights: 0.007648549856995064\n",
      "meal: 0.007761171254211094\n",
      "is_repeated_guest: 0.008115531047763348\n",
      "previous_bookings_not_canceled: 0.008158105350664647\n",
      "room_change: 0.00822875225276394\n",
      "adr_Transf: 0.008317777063447218\n",
      "stays_in_week_nights: 0.008594807619087949\n",
      "booking_changes: 0.011294069774173276\n",
      "deposit_type: 0.011349684978180832\n",
      "LT_Transf: 0.011540691183294531\n",
      "required_car_parking_spaces: 0.012034004851902357\n",
      "total_of_special_requests: 0.01292976368691719\n",
      "assigned_room_type: 0.013700025467885039\n",
      "              precision    recall  f1-score   support\n",
      "\n",
      "           0       0.85      0.88      0.86     15033\n",
      "           1       0.79      0.73      0.76      8845\n",
      "\n",
      "    accuracy                           0.83     23878\n",
      "   macro avg       0.82      0.81      0.81     23878\n",
      "weighted avg       0.83      0.83      0.83     23878\n",
      "\n"
     ],
     "name": "stdout"
    },
    {
     "output_type": "display_data",
     "data": {
      "image/png": "[encoded data removed]",
      "text/plain": [
       "<Figure size 432x288 with 2 Axes>"
      ]
     },
     "metadata": {
      "tags": [],
      "needs_background": "light"
     }
    }
   ]
  },
  {
   "cell_type": "markdown",
   "metadata": {
    "id": "igZXUidRvSiF",
    "colab_type": "text"
   },
   "source": [
    "#Pregunta H\n",
    "Graficar el árbol de decisión con mejor performance encontrado en el punto g2). \n",
    "Analizar el árbol de decisión armado (atributos elegidos y decisiones evaluadas)."
   ]
  },
  {
   "cell_type": "code",
   "metadata": {
    "id": "iXrA-wXnHbzx",
    "colab_type": "code",
    "outputId": "29b07edd-b510-44f2-de12-0d421b385d32",
    "colab": {
     "base_uri": "https://localhost:8080/",
     "height": 595
    }
   },
   "source": [
    "# Plotea el Arbol\n",
    "#featnames = ['year'] + list(ohe.get_feature_names())\n",
    "featnames = list(ohe.get_feature_names())\n",
    "\n",
    "plt.figure(figsize=(20,10))\n",
    "plot_tree(best_tree,max_depth=3,feature_names=featnames,filled=True);\n",
    "plt.show()"
   ],
   "execution_count": 0,
   "outputs": [
    {
     "output_type": "display_data",
     "data": {
      "image/png": "[encoded data removed]",
      "text/plain": [
       "<Figure size 1440x720 with 1 Axes>"
      ]
     },
     "metadata": {
      "tags": [],
      "needs_background": "light"
     }
    }
   ]
  },
  {
   "cell_type": "markdown",
   "metadata": {
    "id": "kzsD2echvwU1",
    "colab_type": "text"
   },
   "source": [
    "#Pregunta I\n",
    "Usando validación cruzada de 10 iteraciones (10-fold cross validation), \n",
    "probar distintos valores de α del algoritmo de poda mínima de complejidad de costos \n",
    "(algoritmo de poda de sklearn). Hacer gráficos de la performance en validación y entrenamiento \n",
    "en función del α. Explicar cómo varía la profundidad de los árboles al realizar la poda con \n",
    "distintos valores de α."
   ]
  },
  {
   "cell_type": "code",
   "metadata": {
    "id": "TGvI9Kwsvwwc",
    "colab_type": "code",
    "outputId": "3101f334-bcb6-4d38-e490-18ab3bb62e80",
    "colab": {
     "base_uri": "https://localhost:8080/",
     "height": 1000
    }
   },
   "source": [
    "from sklearn.model_selection import StratifiedKFold, KFold, GridSearchCV, RandomizedSearchCV\n",
    "from sklearn.metrics import make_scorer\n",
    "\n",
    "params_grid = {'criterion':['gini',],\n",
    "               'max_depth':[27,],\n",
    "               'min_samples_leaf':[1,],\n",
    "               'ccp_alpha':np.linspace(0,0.1,100)}\n",
    "\n",
    "kfoldcv = StratifiedKFold(n_splits=10)\n",
    "base_tree = DecisionTreeClassifier()\n",
    "scorer_fn = make_scorer(f1_score)\n",
    "randomcv = RandomizedSearchCV(estimator=base_tree,param_distributions = params_grid,scoring=scorer_fn,cv=kfoldcv,n_iter=10)\n",
    "randomcv.fit(x_train,y_train);\n",
    "\n",
    "# Podemos ver todas las combinaciones de parámetros y qué puntajes obtuvieron, \n",
    "# junto a tiempos de entrenamiento y predicción.\n",
    "Resultados = pd.DataFrame(randomcv.cv_results_)#.head()\n",
    "print(Resultados)\n",
    "# Podemos ver cuál fue la mejor combinación de hiperparámetros:\n",
    "print(randomcv.best_params_)\n",
    "\n",
    "# Podemos pedir el árbol correspondiente ya entrenado y ver cuán importante es cada atributo\n",
    "best_tree = randomcv.best_estimator_\n",
    "feat_imps = best_tree.feature_importances_\n",
    "print(feat_imps)\n",
    "# Se puede ver que una gran parte de los atributos fueron ignorados por el árbol y por eso valen cero. \n",
    "# Es decir, el árbol no tomo ninguna decisión basándose en ellos. Ahora veamos a qué variables corresponden \n",
    "# los índices con importancia mayor a 0\n",
    "\n",
    "for feat_imp,feat in sorted(zip(feat_imps,features)):\n",
    "  if feat_imp>0:\n",
    "    print('{}: {}'.format(feat,feat_imp))\n"
   ],
   "execution_count": 0,
   "outputs": [
    {
     "output_type": "stream",
     "text": [
      "   mean_fit_time  std_fit_time  ...  std_test_score  rank_test_score\n",
      "0       2.421424      0.060492  ...        0.011613                3\n",
      "1       2.116465      0.075212  ...        0.005614                1\n",
      "2       2.399887      0.028939  ...        0.011613                3\n",
      "3       2.397552      0.020971  ...        0.011613                3\n",
      "4       2.408419      0.039374  ...        0.011613                3\n",
      "5       2.395292      0.015988  ...        0.011613                3\n",
      "6       2.435878      0.078658  ...        0.011613                3\n",
      "7       2.394183      0.014126  ...        0.005997                2\n",
      "8       2.405909      0.035507  ...        0.011613                3\n",
      "9       2.408528      0.035030  ...        0.011613                3\n",
      "\n",
      "[10 rows x 22 columns]\n",
      "{'min_samples_leaf': 1, 'max_depth': 27, 'criterion': 'gini', 'ccp_alpha': 0.0}\n",
      "[3.39842917e-03 5.36942190e-03 7.44136535e-03 8.24886240e-03\n",
      " 5.44453239e-03 5.26016702e-03 5.10764686e-03 7.99252829e-03\n",
      " 6.90373087e-03 5.96844123e-03 8.20499464e-03 4.81278303e-03\n",
      " 8.23409959e-03 7.06885643e-03 1.34157265e-02 1.13333421e-02\n",
      " 1.16345751e-02 2.02959655e-03 2.15261280e-03 1.25338982e-03\n",
      " 7.10259853e-03 1.23262601e-02 1.31079322e-02 1.18388352e-02\n",
      " 8.19962251e-03 8.11318473e-03 2.38826663e-03 3.25267147e-03\n",
      " 6.67248250e-03 7.05680281e-03 3.20310168e-03 7.33221809e-04\n",
      " 4.54494401e-03 4.24831456e-03 1.25517267e-03 1.54631631e-04\n",
      " 8.74006208e-04 5.88957303e-04 7.89044178e-03 1.60378334e-03\n",
      " 7.27360771e-03 3.55074023e-03 1.61579737e-03 4.50146405e-04\n",
      " 4.40089319e-04 1.08819775e-03 1.74497894e-03 3.64356516e-03\n",
      " 3.21153110e-03 4.26572137e-02 0.00000000e+00 1.96220714e-03\n",
      " 1.89307802e-03 2.93156698e-04 1.40953177e-03 8.67910556e-05\n",
      " 6.08380823e-04 9.94341464e-04 3.61057047e-02 2.62150875e-04\n",
      " 1.12379108e-02 6.07645280e-04 3.71932849e-03 7.89503661e-04\n",
      " 7.23606664e-04 4.93613996e-03 3.27701162e-03 1.19068646e-03\n",
      " 1.04209586e-03 1.65383940e-04 6.12393680e-05 7.48936624e-05\n",
      " 5.38132192e-03 1.53623271e-03 1.45589951e-03 4.62427735e-03\n",
      " 2.77505993e-03 9.96743483e-04 1.32680690e-03 4.83690093e-04\n",
      " 8.68301400e-05 5.51537903e-05 0.00000000e+00 0.00000000e+00\n",
      " 1.23067804e-02 5.33955367e-03 2.58816910e-03 1.84159807e-03\n",
      " 8.60033104e-04 2.98493041e-01 1.21838263e-04 1.37193414e-03\n",
      " 1.34745310e-03 6.68049045e-03 1.58694816e-03 2.75550785e-02\n",
      " 3.95832747e-03 8.65655819e-04 2.34706820e-03 9.53219951e-04\n",
      " 1.23751202e-03 1.18970757e-03 2.33533461e-04 1.84760664e-02\n",
      " 8.22778133e-03 2.20532602e-03 2.34071348e-02 5.40261666e-02\n",
      " 4.16739849e-03 3.53817062e-03 2.22913524e-03 1.82896119e-02\n",
      " 6.36786071e-03 6.45050989e-03 7.35709159e-03 1.80801465e-03\n",
      " 1.48812863e-04 9.34009817e-05 4.35030996e-02 4.90862617e-03\n",
      " 9.90851293e-03 9.86906333e-03 7.36325611e-03 4.50801204e-03]\n",
      "days_in_waiting_list: 0.0012533898238855452\n",
      "agent: 0.002029596554018174\n",
      "company: 0.002152612804833049\n",
      "hotel: 0.003398429174466529\n",
      "previous_cancellations: 0.004812783033952863\n",
      "babies: 0.005107646855523602\n",
      "children: 0.00526016702095335\n",
      "arrival_date_month: 0.005369421904648065\n",
      "adults: 0.005444532393202086\n",
      "distribution_channel: 0.0059684412336486695\n",
      "market_segment: 0.006903730867894825\n",
      "reserved_room_type: 0.00706885643429696\n",
      "customer_type: 0.007102598534065231\n",
      "stays_in_weekend_nights: 0.007441365348492991\n",
      "meal: 0.007992528289201911\n",
      "adr_Transf: 0.008113184732597912\n",
      "room_change: 0.008199622510141134\n",
      "is_repeated_guest: 0.008204994639635244\n",
      "previous_bookings_not_canceled: 0.00823409959209113\n",
      "stays_in_week_nights: 0.008248862399353145\n",
      "booking_changes: 0.011333342114570181\n",
      "deposit_type: 0.011634575080538402\n",
      "LT_Transf: 0.011838835172407872\n",
      "required_car_parking_spaces: 0.012326260076522691\n",
      "total_of_special_requests: 0.013107932238990823\n",
      "assigned_room_type: 0.01341572648246513\n"
     ],
     "name": "stdout"
    }
   ]
  },
  {
   "cell_type": "code",
   "metadata": {
    "id": "8rTD2nl5_l28",
    "colab_type": "code",
    "outputId": "b79f54a8-88ad-4315-9286-f4bb638f6383",
    "colab": {
     "base_uri": "https://localhost:8080/",
     "height": 201
    }
   },
   "source": [
    "print(Resultados.mean_test_score)"
   ],
   "execution_count": 0,
   "outputs": [
    {
     "output_type": "stream",
     "text": [
      "0    0.758256\n",
      "1    0.691002\n",
      "2    0.494392\n",
      "3    0.494392\n",
      "4    0.494392\n",
      "5    0.494392\n",
      "6    0.494392\n",
      "7    0.494392\n",
      "8    0.494392\n",
      "9    0.494392\n",
      "Name: mean_test_score, dtype: float64\n"
     ],
     "name": "stdout"
    }
   ]
  },
  {
   "cell_type": "markdown",
   "metadata": {
    "id": "yCeSv5qkzofE",
    "colab_type": "text"
   },
   "source": [
    "# Pregunta k\n",
    "Para el árbol sin poda, obtener la importancia de los descriptores usando la técnica de eliminación \n",
    "recursiva. Reentrenar el árbol usando sólo los 3 descriptores más importantes. Comparar la performance \n",
    "en el conjunto de prueba."
   ]
  },
  {
   "cell_type": "code",
   "metadata": {
    "id": "jozgSkPO0C6D",
    "colab_type": "code",
    "colab": {}
   },
   "source": [
    ""
   ],
   "execution_count": 0,
   "outputs": []
  },
  {
   "cell_type": "code",
   "metadata": {
    "id": "f9LxAaJh0Cn1",
    "colab_type": "code",
    "colab": {}
   },
   "source": [
    ""
   ],
   "execution_count": 0,
   "outputs": []
  }
 ]
}