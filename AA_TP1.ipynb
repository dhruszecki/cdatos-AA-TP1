{
  "nbformat": 4,
  "nbformat_minor": 0,
  "metadata": {
    "colab": {
      "name": "AA-TP1.ipynb",
      "provenance": [],
      "toc_visible": true
    },
    "kernelspec": {
      "name": "python3",
      "display_name": "Python 3"
    }
  },
  "cells": [
    {
      "cell_type": "code",
      "metadata": {
        "id": "On7DS2ZINGYI",
        "colab_type": "code",
        "colab": {}
      },
      "source": [
        "pruebaDiego\n"
      ],
      "execution_count": 0,
      "outputs": []
    },
    {
      "cell_type": "code",
      "metadata": {
        "id": "GV_DZn1KTOHF",
        "colab_type": "code",
        "colab": {}
      },
      "source": [
        "Prueba Darío\n",
        "\n",
        "prueba Santiago\n"
      ],
      "execution_count": 0,
      "outputs": []
    },
    {
      "cell_type": "code",
      "metadata": {
        "id": "iRLlfEwSFgCU",
        "colab_type": "code",
        "outputId": "289082d9-9eb5-43dc-81f8-493d9588e745",
        "colab": {
          "base_uri": "https://localhost:8080/",
          "height": 68
        }
      },
      "source": [
        "import pandas as pd\n",
        "import numpy as np\n",
        "import matplotlib.pyplot as plt\n",
        "\n",
        "df0 = pd.read_csv('hotel_bookings.csv')\n",
        "\n",
        "# print(df0['hotel'].value_counts())\n",
        "print(df0['is_canceled'].value_counts())\n",
        "print (df0.describe())"
      ],
      "execution_count": 0,
      "outputs": [
        {
          "output_type": "stream",
          "text": [
            "0.0    59575\n",
            "1.0    44209\n",
            "Name: is_canceled, dtype: int64\n"
          ],
          "name": "stdout"
        }
      ]
    }
  ]
}